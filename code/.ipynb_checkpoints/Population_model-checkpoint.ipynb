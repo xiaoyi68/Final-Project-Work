{
 "cells": [
  {
   "cell_type": "code",
   "execution_count": 1,
   "metadata": {},
   "outputs": [],
   "source": [
    "%matplotlib inline\n",
    "import matplotlib.pyplot as plt\n",
    "import numpy as np\n",
    "import pandas as pd"
   ]
  },
  {
   "cell_type": "code",
   "execution_count": 2,
   "metadata": {},
   "outputs": [
    {
     "data": {
      "text/html": [
       "<div>\n",
       "<style scoped>\n",
       "    .dataframe tbody tr th:only-of-type {\n",
       "        vertical-align: middle;\n",
       "    }\n",
       "\n",
       "    .dataframe tbody tr th {\n",
       "        vertical-align: top;\n",
       "    }\n",
       "\n",
       "    .dataframe thead th {\n",
       "        text-align: right;\n",
       "    }\n",
       "</style>\n",
       "<table border=\"1\" class=\"dataframe\">\n",
       "  <thead>\n",
       "    <tr style=\"text-align: right;\">\n",
       "      <th></th>\n",
       "      <th>FIPS</th>\n",
       "      <th>State</th>\n",
       "      <th>Area_Name</th>\n",
       "      <th>Year</th>\n",
       "      <th>Population</th>\n",
       "      <th>Births</th>\n",
       "      <th>Deaths</th>\n",
       "      <th>InternationalMig</th>\n",
       "      <th>DomesticMig</th>\n",
       "      <th>CivilianLaborForce</th>\n",
       "      <th>UnemploymentRate</th>\n",
       "    </tr>\n",
       "  </thead>\n",
       "  <tbody>\n",
       "    <tr>\n",
       "      <th>0</th>\n",
       "      <td>1000</td>\n",
       "      <td>AL</td>\n",
       "      <td>Alabama</td>\n",
       "      <td>2011</td>\n",
       "      <td>4798834</td>\n",
       "      <td>59689</td>\n",
       "      <td>48818</td>\n",
       "      <td>4716</td>\n",
       "      <td>-2239</td>\n",
       "      <td>2202670</td>\n",
       "      <td>9.6</td>\n",
       "    </tr>\n",
       "    <tr>\n",
       "      <th>1</th>\n",
       "      <td>2000</td>\n",
       "      <td>AK</td>\n",
       "      <td>Alaska</td>\n",
       "      <td>2011</td>\n",
       "      <td>722038</td>\n",
       "      <td>11702</td>\n",
       "      <td>3936</td>\n",
       "      <td>1320</td>\n",
       "      <td>-979</td>\n",
       "      <td>365913</td>\n",
       "      <td>7.6</td>\n",
       "    </tr>\n",
       "    <tr>\n",
       "      <th>2</th>\n",
       "      <td>4000</td>\n",
       "      <td>AZ</td>\n",
       "      <td>Arizona</td>\n",
       "      <td>2011</td>\n",
       "      <td>6473497</td>\n",
       "      <td>86103</td>\n",
       "      <td>48157</td>\n",
       "      <td>17126</td>\n",
       "      <td>10583</td>\n",
       "      <td>3037017</td>\n",
       "      <td>9.5</td>\n",
       "    </tr>\n",
       "    <tr>\n",
       "      <th>3</th>\n",
       "      <td>5000</td>\n",
       "      <td>AR</td>\n",
       "      <td>Arkansas</td>\n",
       "      <td>2011</td>\n",
       "      <td>2940407</td>\n",
       "      <td>38442</td>\n",
       "      <td>29463</td>\n",
       "      <td>3717</td>\n",
       "      <td>5504</td>\n",
       "      <td>1362682</td>\n",
       "      <td>8.3</td>\n",
       "    </tr>\n",
       "    <tr>\n",
       "      <th>4</th>\n",
       "      <td>6000</td>\n",
       "      <td>CA</td>\n",
       "      <td>California</td>\n",
       "      <td>2011</td>\n",
       "      <td>37641823</td>\n",
       "      <td>509763</td>\n",
       "      <td>238444</td>\n",
       "      <td>105527</td>\n",
       "      <td>-53949</td>\n",
       "      <td>18415100</td>\n",
       "      <td>11.7</td>\n",
       "    </tr>\n",
       "  </tbody>\n",
       "</table>\n",
       "</div>"
      ],
      "text/plain": [
       "   FIPS State   Area_Name  Year  Population  Births  Deaths  InternationalMig  \\\n",
       "0  1000    AL     Alabama  2011     4798834   59689   48818              4716   \n",
       "1  2000    AK      Alaska  2011      722038   11702    3936              1320   \n",
       "2  4000    AZ     Arizona  2011     6473497   86103   48157             17126   \n",
       "3  5000    AR    Arkansas  2011     2940407   38442   29463              3717   \n",
       "4  6000    CA  California  2011    37641823  509763  238444            105527   \n",
       "\n",
       "   DomesticMig  CivilianLaborForce  UnemploymentRate  \n",
       "0        -2239             2202670               9.6  \n",
       "1         -979              365913               7.6  \n",
       "2        10583             3037017               9.5  \n",
       "3         5504             1362682               8.3  \n",
       "4       -53949            18415100              11.7  "
      ]
     },
     "execution_count": 2,
     "metadata": {},
     "output_type": "execute_result"
    }
   ],
   "source": [
    "# Read the csv file into a pandas DataFrame\n",
    "pop = pd.read_csv('../Resources/population_2011_2018.csv')\n",
    "pop.head()"
   ]
  },
  {
   "cell_type": "code",
   "execution_count": 3,
   "metadata": {},
   "outputs": [
    {
     "data": {
      "text/html": [
       "<div>\n",
       "<style scoped>\n",
       "    .dataframe tbody tr th:only-of-type {\n",
       "        vertical-align: middle;\n",
       "    }\n",
       "\n",
       "    .dataframe tbody tr th {\n",
       "        vertical-align: top;\n",
       "    }\n",
       "\n",
       "    .dataframe thead th {\n",
       "        text-align: right;\n",
       "    }\n",
       "</style>\n",
       "<table border=\"1\" class=\"dataframe\">\n",
       "  <thead>\n",
       "    <tr style=\"text-align: right;\">\n",
       "      <th></th>\n",
       "      <th>index</th>\n",
       "      <th>FIPS</th>\n",
       "      <th>State</th>\n",
       "      <th>Area_Name</th>\n",
       "      <th>Year</th>\n",
       "      <th>Population</th>\n",
       "      <th>Births</th>\n",
       "      <th>Deaths</th>\n",
       "      <th>InternationalMig</th>\n",
       "      <th>DomesticMig</th>\n",
       "      <th>CivilianLaborForce</th>\n",
       "      <th>UnemploymentRate</th>\n",
       "    </tr>\n",
       "  </thead>\n",
       "  <tbody>\n",
       "    <tr>\n",
       "      <th>0</th>\n",
       "      <td>34</td>\n",
       "      <td>38000</td>\n",
       "      <td>ND</td>\n",
       "      <td>North Dakota</td>\n",
       "      <td>2011</td>\n",
       "      <td>685136</td>\n",
       "      <td>9211</td>\n",
       "      <td>6054</td>\n",
       "      <td>1077</td>\n",
       "      <td>5991</td>\n",
       "      <td>388634</td>\n",
       "      <td>3.5</td>\n",
       "    </tr>\n",
       "    <tr>\n",
       "      <th>1</th>\n",
       "      <td>85</td>\n",
       "      <td>38000</td>\n",
       "      <td>ND</td>\n",
       "      <td>North Dakota</td>\n",
       "      <td>2012</td>\n",
       "      <td>701116</td>\n",
       "      <td>9873</td>\n",
       "      <td>5935</td>\n",
       "      <td>1137</td>\n",
       "      <td>10571</td>\n",
       "      <td>397867</td>\n",
       "      <td>3.1</td>\n",
       "    </tr>\n",
       "    <tr>\n",
       "      <th>2</th>\n",
       "      <td>136</td>\n",
       "      <td>38000</td>\n",
       "      <td>ND</td>\n",
       "      <td>North Dakota</td>\n",
       "      <td>2013</td>\n",
       "      <td>721999</td>\n",
       "      <td>10252</td>\n",
       "      <td>6224</td>\n",
       "      <td>1096</td>\n",
       "      <td>15341</td>\n",
       "      <td>406193</td>\n",
       "      <td>2.9</td>\n",
       "    </tr>\n",
       "    <tr>\n",
       "      <th>3</th>\n",
       "      <td>187</td>\n",
       "      <td>38000</td>\n",
       "      <td>ND</td>\n",
       "      <td>North Dakota</td>\n",
       "      <td>2014</td>\n",
       "      <td>737382</td>\n",
       "      <td>10980</td>\n",
       "      <td>6210</td>\n",
       "      <td>787</td>\n",
       "      <td>9531</td>\n",
       "      <td>413544</td>\n",
       "      <td>2.7</td>\n",
       "    </tr>\n",
       "    <tr>\n",
       "      <th>4</th>\n",
       "      <td>238</td>\n",
       "      <td>38000</td>\n",
       "      <td>ND</td>\n",
       "      <td>North Dakota</td>\n",
       "      <td>2015</td>\n",
       "      <td>754022</td>\n",
       "      <td>11404</td>\n",
       "      <td>6348</td>\n",
       "      <td>2068</td>\n",
       "      <td>9344</td>\n",
       "      <td>413068</td>\n",
       "      <td>2.8</td>\n",
       "    </tr>\n",
       "    <tr>\n",
       "      <th>5</th>\n",
       "      <td>289</td>\n",
       "      <td>38000</td>\n",
       "      <td>ND</td>\n",
       "      <td>North Dakota</td>\n",
       "      <td>2016</td>\n",
       "      <td>754353</td>\n",
       "      <td>11333</td>\n",
       "      <td>6164</td>\n",
       "      <td>1409</td>\n",
       "      <td>-6287</td>\n",
       "      <td>412765</td>\n",
       "      <td>3.1</td>\n",
       "    </tr>\n",
       "    <tr>\n",
       "      <th>6</th>\n",
       "      <td>340</td>\n",
       "      <td>38000</td>\n",
       "      <td>ND</td>\n",
       "      <td>North Dakota</td>\n",
       "      <td>2017</td>\n",
       "      <td>755176</td>\n",
       "      <td>11182</td>\n",
       "      <td>6054</td>\n",
       "      <td>2659</td>\n",
       "      <td>-6997</td>\n",
       "      <td>410396</td>\n",
       "      <td>2.7</td>\n",
       "    </tr>\n",
       "    <tr>\n",
       "      <th>7</th>\n",
       "      <td>391</td>\n",
       "      <td>38000</td>\n",
       "      <td>ND</td>\n",
       "      <td>North Dakota</td>\n",
       "      <td>2018</td>\n",
       "      <td>760077</td>\n",
       "      <td>10869</td>\n",
       "      <td>6213</td>\n",
       "      <td>2597</td>\n",
       "      <td>-2379</td>\n",
       "      <td>404299</td>\n",
       "      <td>2.6</td>\n",
       "    </tr>\n",
       "  </tbody>\n",
       "</table>\n",
       "</div>"
      ],
      "text/plain": [
       "   index   FIPS State     Area_Name  Year  Population  Births  Deaths  \\\n",
       "0     34  38000    ND  North Dakota  2011      685136    9211    6054   \n",
       "1     85  38000    ND  North Dakota  2012      701116    9873    5935   \n",
       "2    136  38000    ND  North Dakota  2013      721999   10252    6224   \n",
       "3    187  38000    ND  North Dakota  2014      737382   10980    6210   \n",
       "4    238  38000    ND  North Dakota  2015      754022   11404    6348   \n",
       "5    289  38000    ND  North Dakota  2016      754353   11333    6164   \n",
       "6    340  38000    ND  North Dakota  2017      755176   11182    6054   \n",
       "7    391  38000    ND  North Dakota  2018      760077   10869    6213   \n",
       "\n",
       "   InternationalMig  DomesticMig  CivilianLaborForce  UnemploymentRate  \n",
       "0              1077         5991              388634               3.5  \n",
       "1              1137        10571              397867               3.1  \n",
       "2              1096        15341              406193               2.9  \n",
       "3               787         9531              413544               2.7  \n",
       "4              2068         9344              413068               2.8  \n",
       "5              1409        -6287              412765               3.1  \n",
       "6              2659        -6997              410396               2.7  \n",
       "7              2597        -2379              404299               2.6  "
      ]
     },
     "execution_count": 3,
     "metadata": {},
     "output_type": "execute_result"
    }
   ],
   "source": [
    "State='ND'\n",
    "data= pop.groupby('State').get_group(State).reset_index() \n",
    "data.head(8)"
   ]
  },
  {
   "cell_type": "code",
   "execution_count": 4,
   "metadata": {},
   "outputs": [],
   "source": [
    "# Assign the data to X for six small models\n",
    "X = data.Year.values.reshape(-1, 1)\n",
    "x_min = np.array([[X.min()]])\n",
    "x_max = np.array([[X.max()]])\n",
    "Year1=2019\n",
    "Year2=2020\n",
    "Year3=2021"
   ]
  },
  {
   "cell_type": "code",
   "execution_count": 5,
   "metadata": {},
   "outputs": [],
   "source": [
    "# Create the model and fit the model to the data\n",
    "from sklearn.linear_model import LinearRegression\n",
    "model = LinearRegression()"
   ]
  },
  {
   "cell_type": "code",
   "execution_count": 6,
   "metadata": {},
   "outputs": [
    {
     "name": "stdout",
     "output_type": "stream",
     "text": [
      "Births model Score: 0.6579408685457799\n",
      "ND 2019 Births : 11806.821428571478\n",
      "ND 2020 Births : 12066.559523809585\n",
      "ND 2021 Births : 12326.297619047691\n"
     ]
    },
    {
     "data": {
      "image/png": "[encoded data removed]",
      "text/plain": [
       "<Figure size 432x288 with 1 Axes>"
      ]
     },
     "metadata": {
      "needs_background": "light"
     },
     "output_type": "display_data"
    }
   ],
   "source": [
    "# fit the model to the Births data and predict\n",
    "y=data.Births.values.reshape(-1, 1)\n",
    "name=\"Births\"\n",
    "nameYear=name+\" 2010-2018\"\n",
    "model.fit(X, y)\n",
    "print(f\"Births model Score: {model.score(X, y)}\")\n",
    "y_min = model.predict(x_min)\n",
    "y_max = model.predict(x_max)\n",
    "plt.scatter(X, y, c='blue',label=nameYear)\n",
    "plt.plot([x_min[0], x_max[0]], [y_min[0], y_max[0]], c='red', label=name)\n",
    "plt.legend()\n",
    "plt.title(name)\n",
    "predicted1 = model.predict([[Year1]])\n",
    "predicted2 = model.predict([[Year2]])\n",
    "predicted3 = model.predict([[Year3]])\n",
    "print(f\"{State} {Year1} {name} : {predicted1[(0,0)]}\")\n",
    "print(f\"{State} {Year2} {name} : {predicted2[(0,0)]}\")\n",
    "print(f\"{State} {Year3} {name} : {predicted3[(0,0)]}\")\n",
    "Births_predicted1=predicted1[0]\n",
    "Births_predicted2=predicted2[0]\n",
    "Births_predicted3=predicted3[0]"
   ]
  },
  {
   "cell_type": "code",
   "execution_count": 7,
   "metadata": {},
   "outputs": [
    {
     "name": "stdout",
     "output_type": "stream",
     "text": [
      "Deaths model Score: 0.14108415918384976\n",
      "ND 2019 Deaths : 6239.5\n",
      "ND 2020 Deaths : 6259.3333333333285\n",
      "ND 2021 Deaths : 6279.166666666664\n"
     ]
    },
    {
     "data": {
      "image/png": "[encoded data removed]",
      "text/plain": [
       "<Figure size 432x288 with 1 Axes>"
      ]
     },
     "metadata": {
      "needs_background": "light"
     },
     "output_type": "display_data"
    }
   ],
   "source": [
    "# fit the model to the Deaths data and predict\n",
    "y=data.Deaths.values.reshape(-1, 1)\n",
    "name=\"Deaths\"\n",
    "nameYear=name+\" 2010-2018\"\n",
    "model.fit(X, y)\n",
    "print(f\"Deaths model Score: {model.score(X, y)}\")\n",
    "y_min = model.predict(x_min)\n",
    "y_max = model.predict(x_max)\n",
    "plt.scatter(X, y, c='blue',label=nameYear)\n",
    "plt.plot([x_min[0], x_max[0]], [y_min[0], y_max[0]], c='red', label=name)\n",
    "plt.legend()\n",
    "plt.title(name)\n",
    "predicted1 = model.predict([[Year1]])\n",
    "predicted2 = model.predict([[Year2]])\n",
    "predicted3 = model.predict([[Year3]])\n",
    "print(f\"{State} {Year1} {name} : {predicted1[(0,0)]}\")\n",
    "print(f\"{State} {Year2} {name} : {predicted2[(0,0)]}\")\n",
    "print(f\"{State} {Year3} {name} : {predicted3[(0,0)]}\")\n",
    "Deaths_predicted1=predicted1[0]\n",
    "Deaths_predicted2=predicted2[0]\n",
    "Deaths_predicted3=predicted3[0]"
   ]
  },
  {
   "cell_type": "code",
   "execution_count": 8,
   "metadata": {},
   "outputs": [
    {
     "name": "stdout",
     "output_type": "stream",
     "text": [
      "InternationalMig model Score: 0.6609239561413108\n",
      "ND 2019 InternationalMig : 2700.3571428571595\n",
      "ND 2020 InternationalMig : 2944.047619047633\n",
      "ND 2021 InternationalMig : 3187.7380952381063\n"
     ]
    },
    {
     "data": {
      "image/png": "[encoded data removed]",
      "text/plain": [
       "<Figure size 432x288 with 1 Axes>"
      ]
     },
     "metadata": {
      "needs_background": "light"
     },
     "output_type": "display_data"
    }
   ],
   "source": [
    "# fit the model to the InternationalMig data and predict\n",
    "y=data.InternationalMig.values.reshape(-1, 1)\n",
    "name=\"InternationalMig\"\n",
    "nameYear=name+\" 2010-2018\"\n",
    "model.fit(X, y)\n",
    "print(f\"InternationalMig model Score: {model.score(X, y)}\")\n",
    "y_min = model.predict(x_min)\n",
    "y_max = model.predict(x_max)\n",
    "plt.scatter(X, y, c='blue',label=nameYear)\n",
    "plt.plot([x_min[0], x_max[0]], [y_min[0], y_max[0]], c='red', label=name)\n",
    "plt.legend()\n",
    "plt.title(name)\n",
    "predicted1 = model.predict([[Year1]])\n",
    "predicted2 = model.predict([[Year2]])\n",
    "predicted3 = model.predict([[Year3]])\n",
    "print(f\"{State} {Year1} {name} : {predicted1[(0,0)]}\")\n",
    "print(f\"{State} {Year2} {name} : {predicted2[(0,0)]}\")\n",
    "print(f\"{State} {Year3} {name} : {predicted3[(0,0)]}\")\n",
    "InternationalMig_predicted1=predicted1[0]\n",
    "InternationalMig_predicted2=predicted2[0]\n",
    "InternationalMig_predicted3=predicted3[0]"
   ]
  },
  {
   "cell_type": "code",
   "execution_count": 9,
   "metadata": {},
   "outputs": [
    {
     "name": "stdout",
     "output_type": "stream",
     "text": [
      "DomesticMig model Score: 0.5313142448477537\n",
      "ND 2019 DomesticMig : -6941.035714285448\n",
      "ND 2020 DomesticMig : -9458.90476190485\n",
      "ND 2021 DomesticMig : -11976.773809523322\n"
     ]
    },
    {
     "data": {
      "image/png": "[encoded data removed]",
      "text/plain": [
       "<Figure size 432x288 with 1 Axes>"
      ]
     },
     "metadata": {
      "needs_background": "light"
     },
     "output_type": "display_data"
    }
   ],
   "source": [
    "# fit the model to the DomesticMig data and predict\n",
    "y=data.DomesticMig.values.reshape(-1, 1)\n",
    "name=\"DomesticMig\"\n",
    "nameYear=name+\" 2010-2018\"\n",
    "model.fit(X, y)\n",
    "print(f\"DomesticMig model Score: {model.score(X, y)}\")\n",
    "y_min = model.predict(x_min)\n",
    "y_max = model.predict(x_max)\n",
    "plt.scatter(X, y, c='blue',label=nameYear)\n",
    "plt.plot([x_min[0], x_max[0]], [y_min[0], y_max[0]], c='red', label=name)\n",
    "plt.legend()\n",
    "plt.title(name)\n",
    "predicted1 = model.predict([[Year1]])\n",
    "predicted2 = model.predict([[Year2]])\n",
    "predicted3 = model.predict([[Year3]])\n",
    "print(f\"{State} {Year1} {name} : {predicted1[(0,0)]}\")\n",
    "print(f\"{State} {Year2} {name} : {predicted2[(0,0)]}\")\n",
    "print(f\"{State} {Year3} {name} : {predicted3[(0,0)]}\")\n",
    "DomesticMig_predicted1=predicted1[0]\n",
    "DomesticMig_predicted2=predicted2[0]\n",
    "DomesticMig_predicted3=predicted3[0]"
   ]
  },
  {
   "cell_type": "code",
   "execution_count": 10,
   "metadata": {},
   "outputs": [
    {
     "name": "stdout",
     "output_type": "stream",
     "text": [
      "CivilianLaborForce model Score: 0.40259830970717647\n",
      "ND 2019 CivilianLaborForce : 416106.8214285709\n",
      "ND 2020 CivilianLaborForce : 418387.05952380877\n",
      "ND 2021 CivilianLaborForce : 420667.2976190476\n"
     ]
    },
    {
     "data": {
      "image/png": "[encoded data removed]",
      "text/plain": [
       "<Figure size 432x288 with 1 Axes>"
      ]
     },
     "metadata": {
      "needs_background": "light"
     },
     "output_type": "display_data"
    }
   ],
   "source": [
    "# fit the model to the CivilianLaborForce data and predict\n",
    "y=data.CivilianLaborForce.values.reshape(-1, 1)\n",
    "name=\"CivilianLaborForce\"\n",
    "nameYear=name+\" 2010-2018\"\n",
    "model.fit(X, y)\n",
    "print(f\"CivilianLaborForce model Score: {model.score(X, y)}\")\n",
    "y_min = model.predict(x_min)\n",
    "y_max = model.predict(x_max)\n",
    "plt.scatter(X, y, c='blue',label=nameYear)\n",
    "plt.plot([x_min[0], x_max[0]], [y_min[0], y_max[0]], c='red', label=name)\n",
    "plt.legend()\n",
    "plt.title(name)\n",
    "predicted1 = model.predict([[Year1]])\n",
    "predicted2 = model.predict([[Year2]])\n",
    "predicted3 = model.predict([[Year3]])\n",
    "print(f\"{State} {Year1} {name} : {predicted1[(0,0)]}\")\n",
    "print(f\"{State} {Year2} {name} : {predicted2[(0,0)]}\")\n",
    "print(f\"{State} {Year3} {name} : {predicted3[(0,0)]}\")\n",
    "CivilianLaborForce_predicted1=predicted1[0]\n",
    "CivilianLaborForce_predicted2=predicted2[0]\n",
    "CivilianLaborForce_predicted3=predicted3[0]"
   ]
  },
  {
   "cell_type": "code",
   "execution_count": 11,
   "metadata": {},
   "outputs": [
    {
     "name": "stdout",
     "output_type": "stream",
     "text": [
      "UnemploymentRate model Score: 0.5590398761130377\n",
      "ND 2019 UnemploymentRate : 2.517857142857139\n",
      "ND 2020 UnemploymentRate : 2.4273809523809575\n",
      "ND 2021 UnemploymentRate : 2.3369047619047763\n"
     ]
    },
    {
     "data": {
      "image/png": "[encoded data removed]",
      "text/plain": [
       "<Figure size 432x288 with 1 Axes>"
      ]
     },
     "metadata": {
      "needs_background": "light"
     },
     "output_type": "display_data"
    }
   ],
   "source": [
    "# fit the model to the UnemploymentRate data and predict\n",
    "y=data.UnemploymentRate.values.reshape(-1, 1)\n",
    "name=\"UnemploymentRate\"\n",
    "nameYear=name+\" 2010-2018\"\n",
    "model.fit(X, y)\n",
    "print(f\"UnemploymentRate model Score: {model.score(X, y)}\")\n",
    "y_min = model.predict(x_min)\n",
    "y_max = model.predict(x_max)\n",
    "plt.scatter(X, y, c='blue',label=nameYear)\n",
    "plt.plot([x_min[0], x_max[0]], [y_min[0], y_max[0]], c='red', label=name)\n",
    "plt.legend()\n",
    "plt.title(name)\n",
    "predicted1 = model.predict([[Year1]])\n",
    "predicted2 = model.predict([[Year2]])\n",
    "predicted3 = model.predict([[Year3]])\n",
    "print(f\"{State} {Year1} {name} : {predicted1[(0,0)]}\")\n",
    "print(f\"{State} {Year2} {name} : {predicted2[(0,0)]}\")\n",
    "print(f\"{State} {Year3} {name} : {predicted3[(0,0)]}\")\n",
    "UnemploymentRate_predicted1=predicted1[0]\n",
    "UnemploymentRate_predicted2=predicted2[0]\n",
    "UnemploymentRate_predicted3=predicted3[0]"
   ]
  },
  {
   "cell_type": "code",
   "execution_count": 12,
   "metadata": {},
   "outputs": [],
   "source": [
    "# use small predict model results for the final model input\n",
    "X_prediction2019=pd.DataFrame({\"Births\": Births_predicted1,\n",
    "                           \"Deaths\": Deaths_predicted1,\n",
    "                           \"InternationalMig\": InternationalMig_predicted1,\n",
    "                           \"DomesticMig\": DomesticMig_predicted1,\n",
    "                           \"CivilianLaborForce\": CivilianLaborForce_predicted1,\n",
    "                           \"UnemploymentRate\": UnemploymentRate_predicted1})\n",
    "X_prediction2020=pd.DataFrame({\"Births\": Births_predicted2,\n",
    "                           \"Deaths\": Deaths_predicted2,\n",
    "                           \"InternationalMig\": InternationalMig_predicted2,\n",
    "                           \"DomesticMig\": DomesticMig_predicted2,\n",
    "                           \"CivilianLaborForce\": CivilianLaborForce_predicted2,\n",
    "                           \"UnemploymentRate\": UnemploymentRate_predicted2})\n",
    "X_prediction2021=pd.DataFrame({\"Births\": Births_predicted3,\n",
    "                           \"Deaths\": Deaths_predicted3,\n",
    "                           \"InternationalMig\": InternationalMig_predicted3,\n",
    "                           \"DomesticMig\": DomesticMig_predicted3,\n",
    "                           \"CivilianLaborForce\": CivilianLaborForce_predicted3,\n",
    "                           \"UnemploymentRate\": UnemploymentRate_predicted3})"
   ]
  },
  {
   "cell_type": "code",
   "execution_count": 13,
   "metadata": {},
   "outputs": [
    {
     "name": "stdout",
     "output_type": "stream",
     "text": [
      "         Births  Deaths  InternationalMig  DomesticMig  CivilianLaborForce  \\\n",
      "0  11806.821429  6239.5       2700.357143 -6941.035714       416106.821429   \n",
      "\n",
      "   UnemploymentRate  \n",
      "0          2.517857  \n",
      "         Births       Deaths  InternationalMig  DomesticMig  \\\n",
      "0  12066.559524  6259.333333       2944.047619 -9458.904762   \n",
      "\n",
      "   CivilianLaborForce  UnemploymentRate  \n",
      "0       418387.059524          2.427381  \n",
      "         Births       Deaths  InternationalMig  DomesticMig  \\\n",
      "0  12326.297619  6279.166667       3187.738095 -11976.77381   \n",
      "\n",
      "   CivilianLaborForce  UnemploymentRate  \n",
      "0       420667.297619          2.336905  \n"
     ]
    }
   ],
   "source": [
    "print(X_prediction2019)\n",
    "print(X_prediction2020)\n",
    "print(X_prediction2021)"
   ]
  },
  {
   "cell_type": "code",
   "execution_count": 14,
   "metadata": {},
   "outputs": [
    {
     "name": "stdout",
     "output_type": "stream",
     "text": [
      "X y Shape:  (408, 6) (408, 1)\n",
      "population model Score: 0.9993912115700335\n"
     ]
    },
    {
     "data": {
      "image/png": "[encoded data removed]",
      "text/plain": [
       "<Figure size 432x288 with 1 Axes>"
      ]
     },
     "metadata": {
      "needs_background": "light"
     },
     "output_type": "display_data"
    },
    {
     "name": "stdout",
     "output_type": "stream",
     "text": [
      "2019 population : 766894\n",
      "2020 population : 776754\n",
      "2021 population : 786614\n"
     ]
    }
   ],
   "source": [
    "# Assign the data to X and y for the polulation model and fit\n",
    "X = pop[[\"Births\",\"Deaths\",\"InternationalMig\",\"DomesticMig\",\"CivilianLaborForce\",\"UnemploymentRate\"]]\n",
    "y = pop[\"Population\"].values.reshape(-1, 1)\n",
    "print(\"X y Shape: \", X.shape, y.shape)\n",
    "from sklearn.linear_model import LinearRegression\n",
    "model = LinearRegression()\n",
    "model.fit(X, y)\n",
    "print(f\"population model Score: {model.score(X, y)}\")\n",
    "# residual plot \n",
    "predictions = model.predict(X)\n",
    "# Plot Residuals\n",
    "plt.scatter(predictions, (predictions - y)/predictions*100 ,label=\"Residuals Persantage %\")\n",
    "plt.hlines(y=0, xmin=predictions.min(), xmax=predictions.max())\n",
    "plt.legend()\n",
    "plt.title(\"Residuals Persantage\")\n",
    "plt.show()\n",
    "predictions2019 = model.predict(X_prediction2019)\n",
    "predictions2020 = model.predict(X_prediction2020)\n",
    "predictions2021 = model.predict(X_prediction2021)\n",
    "print(f\"{Year1} population : {int(predictions2019[(0,0)])}\")\n",
    "print(f\"{Year2} population : {int(predictions2020[(0,0)])}\")\n",
    "print(f\"{Year3} population : {int(predictions2021[(0,0)])}\")"
   ]
  },
  {
   "cell_type": "code",
   "execution_count": null,
   "metadata": {},
   "outputs": [],
   "source": []
  }
 ],
 "metadata": {
  "kernelspec": {
   "display_name": "Python 3",
   "language": "python",
   "name": "python3"
  },
  "language_info": {
   "codemirror_mode": {
    "name": "ipython",
    "version": 3
   },
   "file_extension": ".py",
   "mimetype": "text/x-python",
   "name": "python",
   "nbconvert_exporter": "python",
   "pygments_lexer": "ipython3",
   "version": "3.7.3"
  }
 },
 "nbformat": 4,
 "nbformat_minor": 2
}
