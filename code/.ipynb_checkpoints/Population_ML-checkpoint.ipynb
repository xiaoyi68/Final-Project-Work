{
 "cells": [
  {
   "cell_type": "code",
   "execution_count": 1,
   "metadata": {},
   "outputs": [],
   "source": [
    "%matplotlib inline\n",
    "import matplotlib.pyplot as plt\n",
    "import numpy as np\n",
    "import pandas as pd"
   ]
  },
  {
   "cell_type": "code",
   "execution_count": 2,
   "metadata": {},
   "outputs": [
    {
     "data": {
      "text/html": [
       "<div>\n",
       "<style scoped>\n",
       "    .dataframe tbody tr th:only-of-type {\n",
       "        vertical-align: middle;\n",
       "    }\n",
       "\n",
       "    .dataframe tbody tr th {\n",
       "        vertical-align: top;\n",
       "    }\n",
       "\n",
       "    .dataframe thead th {\n",
       "        text-align: right;\n",
       "    }\n",
       "</style>\n",
       "<table border=\"1\" class=\"dataframe\">\n",
       "  <thead>\n",
       "    <tr style=\"text-align: right;\">\n",
       "      <th></th>\n",
       "      <th>Year</th>\n",
       "      <th>Population</th>\n",
       "      <th>Births</th>\n",
       "      <th>Deaths</th>\n",
       "      <th>InternationalMig</th>\n",
       "      <th>DomesticMig</th>\n",
       "      <th>CivilianLaborForce</th>\n",
       "      <th>UnemploymentRate</th>\n",
       "    </tr>\n",
       "  </thead>\n",
       "  <tbody>\n",
       "    <tr>\n",
       "      <th>0</th>\n",
       "      <td>2011</td>\n",
       "      <td>25646227</td>\n",
       "      <td>381742</td>\n",
       "      <td>168090</td>\n",
       "      <td>71953</td>\n",
       "      <td>117054</td>\n",
       "      <td>12504498</td>\n",
       "      <td>7.8</td>\n",
       "    </tr>\n",
       "    <tr>\n",
       "      <th>1</th>\n",
       "      <td>2012</td>\n",
       "      <td>26089620</td>\n",
       "      <td>378109</td>\n",
       "      <td>169149</td>\n",
       "      <td>88080</td>\n",
       "      <td>143712</td>\n",
       "      <td>12670455</td>\n",
       "      <td>6.7</td>\n",
       "    </tr>\n",
       "    <tr>\n",
       "      <th>2</th>\n",
       "      <td>2013</td>\n",
       "      <td>26489464</td>\n",
       "      <td>384420</td>\n",
       "      <td>178632</td>\n",
       "      <td>83041</td>\n",
       "      <td>108849</td>\n",
       "      <td>12857595</td>\n",
       "      <td>6.3</td>\n",
       "    </tr>\n",
       "    <tr>\n",
       "      <th>3</th>\n",
       "      <td>2014</td>\n",
       "      <td>26977142</td>\n",
       "      <td>394325</td>\n",
       "      <td>180772</td>\n",
       "      <td>110340</td>\n",
       "      <td>160926</td>\n",
       "      <td>13039452</td>\n",
       "      <td>5.1</td>\n",
       "    </tr>\n",
       "    <tr>\n",
       "      <th>4</th>\n",
       "      <td>2015</td>\n",
       "      <td>27486814</td>\n",
       "      <td>402277</td>\n",
       "      <td>187892</td>\n",
       "      <td>121124</td>\n",
       "      <td>172520</td>\n",
       "      <td>13095837</td>\n",
       "      <td>4.4</td>\n",
       "    </tr>\n",
       "    <tr>\n",
       "      <th>5</th>\n",
       "      <td>2016</td>\n",
       "      <td>27937492</td>\n",
       "      <td>400968</td>\n",
       "      <td>188835</td>\n",
       "      <td>115228</td>\n",
       "      <td>122969</td>\n",
       "      <td>13347311</td>\n",
       "      <td>4.6</td>\n",
       "    </tr>\n",
       "    <tr>\n",
       "      <th>6</th>\n",
       "      <td>2017</td>\n",
       "      <td>28322717</td>\n",
       "      <td>395212</td>\n",
       "      <td>196396</td>\n",
       "      <td>103032</td>\n",
       "      <td>82801</td>\n",
       "      <td>13589208</td>\n",
       "      <td>4.3</td>\n",
       "    </tr>\n",
       "    <tr>\n",
       "      <th>7</th>\n",
       "      <td>2018</td>\n",
       "      <td>28701845</td>\n",
       "      <td>391451</td>\n",
       "      <td>200500</td>\n",
       "      <td>104976</td>\n",
       "      <td>82569</td>\n",
       "      <td>13848080</td>\n",
       "      <td>3.9</td>\n",
       "    </tr>\n",
       "  </tbody>\n",
       "</table>\n",
       "</div>"
      ],
      "text/plain": [
       "   Year  Population  Births  Deaths  InternationalMig  DomesticMig  \\\n",
       "0  2011    25646227  381742  168090             71953       117054   \n",
       "1  2012    26089620  378109  169149             88080       143712   \n",
       "2  2013    26489464  384420  178632             83041       108849   \n",
       "3  2014    26977142  394325  180772            110340       160926   \n",
       "4  2015    27486814  402277  187892            121124       172520   \n",
       "5  2016    27937492  400968  188835            115228       122969   \n",
       "6  2017    28322717  395212  196396            103032        82801   \n",
       "7  2018    28701845  391451  200500            104976        82569   \n",
       "\n",
       "   CivilianLaborForce  UnemploymentRate  \n",
       "0            12504498               7.8  \n",
       "1            12670455               6.7  \n",
       "2            12857595               6.3  \n",
       "3            13039452               5.1  \n",
       "4            13095837               4.4  \n",
       "5            13347311               4.6  \n",
       "6            13589208               4.3  \n",
       "7            13848080               3.9  "
      ]
     },
     "execution_count": 2,
     "metadata": {},
     "output_type": "execute_result"
    }
   ],
   "source": [
    "# Read the csv file into a pandas DataFrame\n",
    "TX = pd.read_csv('../Resources/TX.csv')\n",
    "TX.head(10)"
   ]
  },
  {
   "cell_type": "code",
   "execution_count": 3,
   "metadata": {},
   "outputs": [],
   "source": [
    "# Assign the data to X and y\n",
    "X = TX.Year.values.reshape(-1, 1)\n",
    "y1 = TX.Population.values.reshape(-1, 1)\n",
    "y2 = TX.Births.values.reshape(-1, 1)\n",
    "y3 = TX.Deaths.values.reshape(-1, 1)\n",
    "y4 = TX.InternationalMig.values.reshape(-1, 1)\n",
    "y5 = TX.DomesticMig.values.reshape(-1, 1)\n",
    "y6 = TX.CivilianLaborForce.values.reshape(-1, 1)\n",
    "y7 = TX.UnemploymentRate.values.reshape(-1, 1)\n",
    "x_min = np.array([[X.min()]])\n",
    "x_max = np.array([[X.max()]])\n",
    "Year=2019\n",
    "Year1=2019\n",
    "Year2=2020\n",
    "Year3=2021\n",
    "# Create the model and fit the model to the data\n",
    "from sklearn.linear_model import LinearRegression\n",
    "model = LinearRegression()\n",
    "# y=y1\n",
    "# name=\"Population\"\n",
    "# nameYear=name+\" 2010-2018\"\n",
    "# model.fit(X, y)\n",
    "# print(model.score(X, y))\n",
    "# y_min = model.predict(x_min)\n",
    "# y_max = model.predict(x_max)\n",
    "# plt.scatter(X, y, c='blue',label=nameYear)\n",
    "# plt.plot([x_min[0], x_max[0]], [y_min[0], y_max[0]], c='red', label=name)\n",
    "# plt.legend()\n",
    "# plt.title(name)\n",
    "# predicted = model.predict([[Year]])\n",
    "# print(predicted[0])\n",
    "# Population_predicted=predicted[0]"
   ]
  },
  {
   "cell_type": "code",
   "execution_count": 4,
   "metadata": {},
   "outputs": [
    {
     "name": "stdout",
     "output_type": "stream",
     "text": [
      "0.4815674197353986\n",
      "[402370.53571429] [404883.32142857] [407396.10714286]\n"
     ]
    },
    {
     "data": {
      "image/png": "[encoded data removed]",
      "text/plain": [
       "<Figure size 432x288 with 1 Axes>"
      ]
     },
     "metadata": {
      "needs_background": "light"
     },
     "output_type": "display_data"
    }
   ],
   "source": [
    "y=y2\n",
    "name=\"Births\"\n",
    "nameYear=name+\" 2010-2018\"\n",
    "model.fit(X, y)\n",
    "print(model.score(X, y))\n",
    "y_min = model.predict(x_min)\n",
    "y_max = model.predict(x_max)\n",
    "plt.scatter(X, y, c='blue',label=nameYear)\n",
    "plt.plot([x_min[0], x_max[0]], [y_min[0], y_max[0]], c='red', label=name)\n",
    "plt.legend()\n",
    "plt.title(name)\n",
    "predicted = model.predict([[Year]])\n",
    "predicted1 = model.predict([[Year1]])\n",
    "predicted2 = model.predict([[Year2]])\n",
    "predicted3 = model.predict([[Year3]])\n",
    "# print(predicted[0],predicted1[0],predicted2[0],predicted3[0])\n",
    "print(predicted1[0],predicted2[0],predicted3[0])\n",
    "Births_predicted=predicted[0]\n",
    "Births_predicted1=predicted1[0]\n",
    "Births_predicted2=predicted2[0]\n",
    "Births_predicted3=predicted3[0]"
   ]
  },
  {
   "cell_type": "code",
   "execution_count": 5,
   "metadata": {},
   "outputs": [
    {
     "name": "stdout",
     "output_type": "stream",
     "text": [
      "0.9788950215573075\n",
      "[205256.5] [210028.33333333] [214800.16666667]\n"
     ]
    },
    {
     "data": {
      "image/png": "[encoded data removed]",
      "text/plain": [
       "<Figure size 432x288 with 1 Axes>"
      ]
     },
     "metadata": {
      "needs_background": "light"
     },
     "output_type": "display_data"
    }
   ],
   "source": [
    "y=y3\n",
    "name=\"Deaths\"\n",
    "nameYear=name+\" 2010-2018\"\n",
    "model.fit(X, y)\n",
    "print(model.score(X, y))\n",
    "y_min = model.predict(x_min)\n",
    "y_max = model.predict(x_max)\n",
    "plt.scatter(X, y, c='blue',label=nameYear)\n",
    "plt.plot([x_min[0], x_max[0]], [y_min[0], y_max[0]], c='red', label=name)\n",
    "plt.legend()\n",
    "plt.title(name)\n",
    "predicted = model.predict([[Year]])\n",
    "predicted1 = model.predict([[Year1]])\n",
    "predicted2 = model.predict([[Year2]])\n",
    "predicted3 = model.predict([[Year3]])\n",
    "# print(predicted[0],predicted1[0],predicted2[0],predicted3[0])\n",
    "print(predicted1[0],predicted2[0],predicted3[0])\n",
    "Deaths_predicted=predicted[0]"
   ]
  },
  {
   "cell_type": "code",
   "execution_count": 6,
   "metadata": {},
   "outputs": [
    {
     "name": "stdout",
     "output_type": "stream",
     "text": [
      "0.4996329611334632\n",
      "[121861.] [126780.83333333] [131700.66666667]\n"
     ]
    },
    {
     "data": {
      "image/png": "[encoded data removed]",
      "text/plain": [
       "<Figure size 432x288 with 1 Axes>"
      ]
     },
     "metadata": {
      "needs_background": "light"
     },
     "output_type": "display_data"
    }
   ],
   "source": [
    "y=y4\n",
    "name=\"InternationalMig\"\n",
    "nameYear=name+\" 2010-2018\"\n",
    "model.fit(X, y)\n",
    "print(model.score(X, y))\n",
    "y_min = model.predict(x_min)\n",
    "y_max = model.predict(x_max)\n",
    "plt.scatter(X, y, c='blue',label=nameYear)\n",
    "plt.plot([x_min[0], x_max[0]], [y_min[0], y_max[0]], c='red', label=name)\n",
    "plt.legend()\n",
    "plt.title(name)\n",
    "predicted = model.predict([[Year]])\n",
    "predicted1 = model.predict([[Year1]])\n",
    "predicted2 = model.predict([[Year2]])\n",
    "predicted3 = model.predict([[Year3]])\n",
    "# print(predicted[0],predicted1[0],predicted2[0],predicted3[0])\n",
    "print(predicted1[0],predicted2[0],predicted3[0])\n",
    "InternationalMig_predicted=predicted[0]"
   ]
  },
  {
   "cell_type": "code",
   "execution_count": 7,
   "metadata": {},
   "outputs": [
    {
     "name": "stdout",
     "output_type": "stream",
     "text": [
      "0.18474629140834575\n",
      "[97568.07142857] [91710.97619048] [85853.88095238]\n"
     ]
    },
    {
     "data": {
      "image/png": "[encoded data removed]",
      "text/plain": [
       "<Figure size 432x288 with 1 Axes>"
      ]
     },
     "metadata": {
      "needs_background": "light"
     },
     "output_type": "display_data"
    }
   ],
   "source": [
    "y=y5\n",
    "name=\"DomesticMig\"\n",
    "nameYear=name+\" 2010-2018\"\n",
    "model.fit(X, y)\n",
    "print(model.score(X, y))\n",
    "y_min = model.predict(x_min)\n",
    "y_max = model.predict(x_max)\n",
    "plt.scatter(X, y, c='blue',label=nameYear)\n",
    "plt.plot([x_min[0], x_max[0]], [y_min[0], y_max[0]], c='red', label=name)\n",
    "plt.legend()\n",
    "plt.title(name)\n",
    "predicted = model.predict([[Year]])\n",
    "predicted1 = model.predict([[Year1]])\n",
    "predicted2 = model.predict([[Year2]])\n",
    "predicted3 = model.predict([[Year3]])\n",
    "# print(predicted[0],predicted1[0],predicted2[0],predicted3[0])\n",
    "print(predicted1[0],predicted2[0],predicted3[0])\n",
    "DomesticMig_predicted=predicted[0]"
   ]
  },
  {
   "cell_type": "code",
   "execution_count": 8,
   "metadata": {},
   "outputs": [
    {
     "name": "stdout",
     "output_type": "stream",
     "text": [
      "0.983396324723388\n",
      "[13950717.28571427] [14135531.23809522] [14320345.19047618]\n"
     ]
    },
    {
     "data": {
      "image/png": "[encoded data removed]",
      "text/plain": [
       "<Figure size 432x288 with 1 Axes>"
      ]
     },
     "metadata": {
      "needs_background": "light"
     },
     "output_type": "display_data"
    }
   ],
   "source": [
    "y=y6\n",
    "name=\"CivilianLaborForce\"\n",
    "nameYear=name+\" 2010-2018\"\n",
    "model.fit(X, y)\n",
    "print(model.score(X, y))\n",
    "y_min = model.predict(x_min)\n",
    "y_max = model.predict(x_max)\n",
    "plt.scatter(X, y, c='blue',label=nameYear)\n",
    "plt.plot([x_min[0], x_max[0]], [y_min[0], y_max[0]], c='red', label=name)\n",
    "plt.legend()\n",
    "plt.title(name)\n",
    "predicted = model.predict([[Year]])\n",
    "predicted1 = model.predict([[Year1]])\n",
    "predicted2 = model.predict([[Year2]])\n",
    "predicted3 = model.predict([[Year3]])\n",
    "# print(predicted[0],predicted1[0],predicted2[0],predicted3[0])\n",
    "print(predicted1[0],predicted2[0],predicted3[0])\n",
    "CivilianLaborForce_predicted=predicted[0]"
   ]
  },
  {
   "cell_type": "code",
   "execution_count": 9,
   "metadata": {},
   "outputs": [
    {
     "name": "stdout",
     "output_type": "stream",
     "text": [
      "0.9002474119120636\n",
      "[2.97142857] [2.43452381] [1.89761905]\n"
     ]
    },
    {
     "data": {
      "image/png": "[encoded data removed]",
      "text/plain": [
       "<Figure size 432x288 with 1 Axes>"
      ]
     },
     "metadata": {
      "needs_background": "light"
     },
     "output_type": "display_data"
    }
   ],
   "source": [
    "y=y7\n",
    "name=\"UnemploymentRate\"\n",
    "nameYear=name+\" 2010-2018\"\n",
    "model.fit(X, y)\n",
    "print(model.score(X, y))\n",
    "y_min = model.predict(x_min)\n",
    "y_max = model.predict(x_max)\n",
    "plt.scatter(X, y, c='blue',label=nameYear)\n",
    "plt.plot([x_min[0], x_max[0]], [y_min[0], y_max[0]], c='red', label=name)\n",
    "plt.legend()\n",
    "plt.title(name)\n",
    "predicted = model.predict([[Year]])\n",
    "predicted1 = model.predict([[Year1]])\n",
    "predicted2 = model.predict([[Year2]])\n",
    "predicted3 = model.predict([[Year3]])\n",
    "# print(predicted[0],predicted1[0],predicted2[0],predicted3[0])\n",
    "print(predicted1[0],predicted2[0],predicted3[0])\n",
    "UnemploymentRate_predicted=predicted[0]"
   ]
  },
  {
   "cell_type": "code",
   "execution_count": 10,
   "metadata": {},
   "outputs": [
    {
     "data": {
      "text/plain": [
       "2.9714285714285325"
      ]
     },
     "execution_count": 10,
     "metadata": {},
     "output_type": "execute_result"
    }
   ],
   "source": [
    "type(predicted)\n",
    "predicted[0]\n",
    "predicted[(0,0)]"
   ]
  },
  {
   "cell_type": "code",
   "execution_count": null,
   "metadata": {},
   "outputs": [],
   "source": []
  },
  {
   "cell_type": "code",
   "execution_count": 11,
   "metadata": {},
   "outputs": [],
   "source": [
    "X_prediction=pd.DataFrame({\"Births\": Births_predicted,\n",
    "                           \"Deaths\": Deaths_predicted,\n",
    "                           \"InternationalMig\": InternationalMig_predicted,\n",
    "                           \"DomesticMig\": DomesticMig_predicted,\n",
    "                           \"CivilianLaborForce\": CivilianLaborForce_predicted,\n",
    "                           \"UnemploymentRate\": UnemploymentRate_predicted})"
   ]
  },
  {
   "cell_type": "code",
   "execution_count": 12,
   "metadata": {},
   "outputs": [
    {
     "data": {
      "text/html": [
       "<div>\n",
       "<style scoped>\n",
       "    .dataframe tbody tr th:only-of-type {\n",
       "        vertical-align: middle;\n",
       "    }\n",
       "\n",
       "    .dataframe tbody tr th {\n",
       "        vertical-align: top;\n",
       "    }\n",
       "\n",
       "    .dataframe thead th {\n",
       "        text-align: right;\n",
       "    }\n",
       "</style>\n",
       "<table border=\"1\" class=\"dataframe\">\n",
       "  <thead>\n",
       "    <tr style=\"text-align: right;\">\n",
       "      <th></th>\n",
       "      <th>Births</th>\n",
       "      <th>Deaths</th>\n",
       "      <th>InternationalMig</th>\n",
       "      <th>DomesticMig</th>\n",
       "      <th>CivilianLaborForce</th>\n",
       "      <th>UnemploymentRate</th>\n",
       "    </tr>\n",
       "  </thead>\n",
       "  <tbody>\n",
       "    <tr>\n",
       "      <th>0</th>\n",
       "      <td>402370.535714</td>\n",
       "      <td>205256.5</td>\n",
       "      <td>121861.0</td>\n",
       "      <td>97568.071429</td>\n",
       "      <td>1.395072e+07</td>\n",
       "      <td>2.971429</td>\n",
       "    </tr>\n",
       "  </tbody>\n",
       "</table>\n",
       "</div>"
      ],
      "text/plain": [
       "          Births    Deaths  InternationalMig   DomesticMig  \\\n",
       "0  402370.535714  205256.5          121861.0  97568.071429   \n",
       "\n",
       "   CivilianLaborForce  UnemploymentRate  \n",
       "0        1.395072e+07          2.971429  "
      ]
     },
     "execution_count": 12,
     "metadata": {},
     "output_type": "execute_result"
    }
   ],
   "source": [
    "X_prediction"
   ]
  },
  {
   "cell_type": "code",
   "execution_count": null,
   "metadata": {},
   "outputs": [],
   "source": []
  },
  {
   "cell_type": "code",
   "execution_count": 13,
   "metadata": {},
   "outputs": [
    {
     "name": "stdout",
     "output_type": "stream",
     "text": [
      "(8, 6) (8, 1)\n",
      "model Score: 0.9997654834426795\n"
     ]
    }
   ],
   "source": [
    "X = TX[[\"Births\",\"Deaths\",\"InternationalMig\",\"DomesticMig\",\"CivilianLaborForce\",\"UnemploymentRate\"]]\n",
    "y = TX[\"Population\"].values.reshape(-1, 1)\n",
    "print(X.shape, y.shape)\n",
    "from sklearn.linear_model import LinearRegression\n",
    "model = LinearRegression()\n",
    "model.fit(X, y)\n",
    "score = model.score(X, y)\n",
    "print(f\"model Score: {score}\")"
   ]
  },
  {
   "cell_type": "code",
   "execution_count": 14,
   "metadata": {},
   "outputs": [
    {
     "data": {
      "image/png": "[encoded data removed]",
      "text/plain": [
       "<Figure size 432x288 with 1 Axes>"
      ]
     },
     "metadata": {
      "needs_background": "light"
     },
     "output_type": "display_data"
    }
   ],
   "source": [
    "predictions = model.predict(X)\n",
    "# Plot Residuals\n",
    "plt.scatter(predictions, predictions - y)\n",
    "plt.hlines(y=0, xmin=predictions.min(), xmax=predictions.max())\n",
    "plt.show()"
   ]
  },
  {
   "cell_type": "code",
   "execution_count": 15,
   "metadata": {},
   "outputs": [],
   "source": [
    "predictions2019 = model.predict(X_prediction)"
   ]
  },
  {
   "cell_type": "code",
   "execution_count": 16,
   "metadata": {},
   "outputs": [
    {
     "data": {
      "text/plain": [
       "array([[29210265.9923574]])"
      ]
     },
     "execution_count": 16,
     "metadata": {},
     "output_type": "execute_result"
    }
   ],
   "source": [
    "predictions2019"
   ]
  },
  {
   "cell_type": "code",
   "execution_count": null,
   "metadata": {},
   "outputs": [],
   "source": []
  }
 ],
 "metadata": {
  "kernelspec": {
   "display_name": "Python 3",
   "language": "python",
   "name": "python3"
  },
  "language_info": {
   "codemirror_mode": {
    "name": "ipython",
    "version": 3
   },
   "file_extension": ".py",
   "mimetype": "text/x-python",
   "name": "python",
   "nbconvert_exporter": "python",
   "pygments_lexer": "ipython3",
   "version": "3.7.3"
  }
 },
 "nbformat": 4,
 "nbformat_minor": 2
}
