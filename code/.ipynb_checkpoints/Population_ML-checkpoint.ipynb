{
 "cells": [
  {
   "cell_type": "code",
   "execution_count": 1,
   "metadata": {},
   "outputs": [],
   "source": [
    "%matplotlib inline\n",
    "import matplotlib.pyplot as plt\n",
    "import numpy as np\n",
    "import pandas as pd"
   ]
  },
  {
   "cell_type": "code",
   "execution_count": 2,
   "metadata": {},
   "outputs": [
    {
     "data": {
      "text/html": [
       "<div>\n",
       "<style scoped>\n",
       "    .dataframe tbody tr th:only-of-type {\n",
       "        vertical-align: middle;\n",
       "    }\n",
       "\n",
       "    .dataframe tbody tr th {\n",
       "        vertical-align: top;\n",
       "    }\n",
       "\n",
       "    .dataframe thead th {\n",
       "        text-align: right;\n",
       "    }\n",
       "</style>\n",
       "<table border=\"1\" class=\"dataframe\">\n",
       "  <thead>\n",
       "    <tr style=\"text-align: right;\">\n",
       "      <th></th>\n",
       "      <th>Year</th>\n",
       "      <th>Population</th>\n",
       "      <th>Births</th>\n",
       "      <th>Deaths</th>\n",
       "      <th>InternationalMig</th>\n",
       "      <th>DomesticMig</th>\n",
       "      <th>CivilianLaborForce</th>\n",
       "      <th>UnemploymentRate</th>\n",
       "    </tr>\n",
       "  </thead>\n",
       "  <tbody>\n",
       "    <tr>\n",
       "      <th>0</th>\n",
       "      <td>2011</td>\n",
       "      <td>25646227</td>\n",
       "      <td>381742</td>\n",
       "      <td>168090</td>\n",
       "      <td>71953</td>\n",
       "      <td>117054</td>\n",
       "      <td>12504498</td>\n",
       "      <td>7.8</td>\n",
       "    </tr>\n",
       "    <tr>\n",
       "      <th>1</th>\n",
       "      <td>2012</td>\n",
       "      <td>26089620</td>\n",
       "      <td>378109</td>\n",
       "      <td>169149</td>\n",
       "      <td>88080</td>\n",
       "      <td>143712</td>\n",
       "      <td>12670455</td>\n",
       "      <td>6.7</td>\n",
       "    </tr>\n",
       "    <tr>\n",
       "      <th>2</th>\n",
       "      <td>2013</td>\n",
       "      <td>26489464</td>\n",
       "      <td>384420</td>\n",
       "      <td>178632</td>\n",
       "      <td>83041</td>\n",
       "      <td>108849</td>\n",
       "      <td>12857595</td>\n",
       "      <td>6.3</td>\n",
       "    </tr>\n",
       "    <tr>\n",
       "      <th>3</th>\n",
       "      <td>2014</td>\n",
       "      <td>26977142</td>\n",
       "      <td>394325</td>\n",
       "      <td>180772</td>\n",
       "      <td>110340</td>\n",
       "      <td>160926</td>\n",
       "      <td>13039452</td>\n",
       "      <td>5.1</td>\n",
       "    </tr>\n",
       "    <tr>\n",
       "      <th>4</th>\n",
       "      <td>2015</td>\n",
       "      <td>27486814</td>\n",
       "      <td>402277</td>\n",
       "      <td>187892</td>\n",
       "      <td>121124</td>\n",
       "      <td>172520</td>\n",
       "      <td>13095837</td>\n",
       "      <td>4.4</td>\n",
       "    </tr>\n",
       "    <tr>\n",
       "      <th>5</th>\n",
       "      <td>2016</td>\n",
       "      <td>27937492</td>\n",
       "      <td>400968</td>\n",
       "      <td>188835</td>\n",
       "      <td>115228</td>\n",
       "      <td>122969</td>\n",
       "      <td>13347311</td>\n",
       "      <td>4.6</td>\n",
       "    </tr>\n",
       "    <tr>\n",
       "      <th>6</th>\n",
       "      <td>2017</td>\n",
       "      <td>28322717</td>\n",
       "      <td>395212</td>\n",
       "      <td>196396</td>\n",
       "      <td>103032</td>\n",
       "      <td>82801</td>\n",
       "      <td>13589208</td>\n",
       "      <td>4.3</td>\n",
       "    </tr>\n",
       "    <tr>\n",
       "      <th>7</th>\n",
       "      <td>2018</td>\n",
       "      <td>28701845</td>\n",
       "      <td>391451</td>\n",
       "      <td>200500</td>\n",
       "      <td>104976</td>\n",
       "      <td>82569</td>\n",
       "      <td>13848080</td>\n",
       "      <td>3.9</td>\n",
       "    </tr>\n",
       "  </tbody>\n",
       "</table>\n",
       "</div>"
      ],
      "text/plain": [
       "   Year  Population  Births  Deaths  InternationalMig  DomesticMig  \\\n",
       "0  2011    25646227  381742  168090             71953       117054   \n",
       "1  2012    26089620  378109  169149             88080       143712   \n",
       "2  2013    26489464  384420  178632             83041       108849   \n",
       "3  2014    26977142  394325  180772            110340       160926   \n",
       "4  2015    27486814  402277  187892            121124       172520   \n",
       "5  2016    27937492  400968  188835            115228       122969   \n",
       "6  2017    28322717  395212  196396            103032        82801   \n",
       "7  2018    28701845  391451  200500            104976        82569   \n",
       "\n",
       "   CivilianLaborForce  UnemploymentRate  \n",
       "0            12504498               7.8  \n",
       "1            12670455               6.7  \n",
       "2            12857595               6.3  \n",
       "3            13039452               5.1  \n",
       "4            13095837               4.4  \n",
       "5            13347311               4.6  \n",
       "6            13589208               4.3  \n",
       "7            13848080               3.9  "
      ]
     },
     "execution_count": 2,
     "metadata": {},
     "output_type": "execute_result"
    }
   ],
   "source": [
    "# Read the csv file into a pandas DataFrame\n",
    "TX = pd.read_csv('../Resources/TX.csv')\n",
    "TX.head(10)"
   ]
  },
  {
   "cell_type": "code",
   "execution_count": 3,
   "metadata": {},
   "outputs": [],
   "source": [
    "# Assign the data to X for six small models\n",
    "X = TX.Year.values.reshape(-1, 1)\n",
    "x_min = np.array([[X.min()]])\n",
    "x_max = np.array([[X.max()]])\n",
    "Year1=2019\n",
    "Year2=2020\n",
    "Year3=2021"
   ]
  },
  {
   "cell_type": "code",
   "execution_count": 4,
   "metadata": {},
   "outputs": [],
   "source": [
    "# Create the model and fit the model to the data\n",
    "from sklearn.linear_model import LinearRegression\n",
    "model = LinearRegression()"
   ]
  },
  {
   "cell_type": "code",
   "execution_count": 5,
   "metadata": {},
   "outputs": [
    {
     "name": "stdout",
     "output_type": "stream",
     "text": [
      "Births model Score: 0.4815674197353986\n",
      "2019 Births : 402370.5357142864\n",
      "2020 Births : 404883.3214285718\n",
      "2021 Births : 407396.1071428573\n"
     ]
    },
    {
     "data": {
      "image/png": "[encoded data removed]",
      "text/plain": [
       "<Figure size 432x288 with 1 Axes>"
      ]
     },
     "metadata": {
      "needs_background": "light"
     },
     "output_type": "display_data"
    }
   ],
   "source": [
    "# fit the model to the Births data and predict\n",
    "y=TX.Births.values.reshape(-1, 1)\n",
    "name=\"Births\"\n",
    "nameYear=name+\" 2010-2018\"\n",
    "model.fit(X, y)\n",
    "print(f\"Births model Score: {model.score(X, y)}\")\n",
    "y_min = model.predict(x_min)\n",
    "y_max = model.predict(x_max)\n",
    "plt.scatter(X, y, c='blue',label=nameYear)\n",
    "plt.plot([x_min[0], x_max[0]], [y_min[0], y_max[0]], c='red', label=name)\n",
    "plt.legend()\n",
    "plt.title(name)\n",
    "predicted1 = model.predict([[Year1]])\n",
    "predicted2 = model.predict([[Year2]])\n",
    "predicted3 = model.predict([[Year3]])\n",
    "print(f\"{Year1} {name} : {predicted1[(0,0)]}\")\n",
    "print(f\"{Year2} {name} : {predicted2[(0,0)]}\")\n",
    "print(f\"{Year3} {name} : {predicted3[(0,0)]}\")\n",
    "Births_predicted1=predicted1[0]\n",
    "Births_predicted2=predicted2[0]\n",
    "Births_predicted3=predicted3[0]"
   ]
  },
  {
   "cell_type": "code",
   "execution_count": 6,
   "metadata": {},
   "outputs": [
    {
     "name": "stdout",
     "output_type": "stream",
     "text": [
      "Deaths model Score: 0.9788950215573075\n",
      "2019 Deaths : 205256.5\n",
      "2020 Deaths : 210028.3333333321\n",
      "2021 Deaths : 214800.16666666605\n"
     ]
    },
    {
     "data": {
      "image/png": "[encoded data removed]",
      "text/plain": [
       "<Figure size 432x288 with 1 Axes>"
      ]
     },
     "metadata": {
      "needs_background": "light"
     },
     "output_type": "display_data"
    }
   ],
   "source": [
    "# fit the model to the Deaths data and predict\n",
    "y=TX.Deaths.values.reshape(-1, 1)\n",
    "name=\"Deaths\"\n",
    "nameYear=name+\" 2010-2018\"\n",
    "model.fit(X, y)\n",
    "print(f\"Deaths model Score: {model.score(X, y)}\")\n",
    "y_min = model.predict(x_min)\n",
    "y_max = model.predict(x_max)\n",
    "plt.scatter(X, y, c='blue',label=nameYear)\n",
    "plt.plot([x_min[0], x_max[0]], [y_min[0], y_max[0]], c='red', label=name)\n",
    "plt.legend()\n",
    "plt.title(name)\n",
    "predicted1 = model.predict([[Year1]])\n",
    "predicted2 = model.predict([[Year2]])\n",
    "predicted3 = model.predict([[Year3]])\n",
    "print(f\"{Year1} {name} : {predicted1[(0,0)]}\")\n",
    "print(f\"{Year2} {name} : {predicted2[(0,0)]}\")\n",
    "print(f\"{Year3} {name} : {predicted3[(0,0)]}\")\n",
    "Deaths_predicted1=predicted1[0]\n",
    "Deaths_predicted2=predicted2[0]\n",
    "Deaths_predicted3=predicted3[0]"
   ]
  },
  {
   "cell_type": "code",
   "execution_count": 7,
   "metadata": {},
   "outputs": [
    {
     "name": "stdout",
     "output_type": "stream",
     "text": [
      "InternationalMig model Score: 0.4996329611334632\n",
      "2019 InternationalMig : 121861.0\n",
      "2020 InternationalMig : 126780.83333333209\n",
      "2021 InternationalMig : 131700.66666666605\n"
     ]
    },
    {
     "data": {
      "image/png": "[encoded data removed]",
      "text/plain": [
       "<Figure size 432x288 with 1 Axes>"
      ]
     },
     "metadata": {
      "needs_background": "light"
     },
     "output_type": "display_data"
    }
   ],
   "source": [
    "# fit the model to the InternationalMig data and predict\n",
    "y=TX.InternationalMig.values.reshape(-1, 1)\n",
    "name=\"InternationalMig\"\n",
    "nameYear=name+\" 2010-2018\"\n",
    "model.fit(X, y)\n",
    "print(f\"InternationalMig model Score: {model.score(X, y)}\")\n",
    "y_min = model.predict(x_min)\n",
    "y_max = model.predict(x_max)\n",
    "plt.scatter(X, y, c='blue',label=nameYear)\n",
    "plt.plot([x_min[0], x_max[0]], [y_min[0], y_max[0]], c='red', label=name)\n",
    "plt.legend()\n",
    "plt.title(name)\n",
    "predicted1 = model.predict([[Year1]])\n",
    "predicted2 = model.predict([[Year2]])\n",
    "predicted3 = model.predict([[Year3]])\n",
    "print(f\"{Year1} {name} : {predicted1[(0,0)]}\")\n",
    "print(f\"{Year2} {name} : {predicted2[(0,0)]}\")\n",
    "print(f\"{Year3} {name} : {predicted3[(0,0)]}\")\n",
    "InternationalMig_predicted1=predicted1[0]\n",
    "InternationalMig_predicted2=predicted2[0]\n",
    "InternationalMig_predicted3=predicted3[0]"
   ]
  },
  {
   "cell_type": "code",
   "execution_count": 8,
   "metadata": {},
   "outputs": [
    {
     "name": "stdout",
     "output_type": "stream",
     "text": [
      "DomesticMig model Score: 0.18474629140834575\n",
      "2019 DomesticMig : 97568.0714285709\n",
      "2020 DomesticMig : 91710.97619047575\n",
      "2021 DomesticMig : 85853.8809523806\n"
     ]
    },
    {
     "data": {
      "image/png": "[encoded data removed]",
      "text/plain": [
       "<Figure size 432x288 with 1 Axes>"
      ]
     },
     "metadata": {
      "needs_background": "light"
     },
     "output_type": "display_data"
    }
   ],
   "source": [
    "# fit the model to the DomesticMig data and predict\n",
    "y=TX.DomesticMig.values.reshape(-1, 1)\n",
    "name=\"DomesticMig\"\n",
    "nameYear=name+\" 2010-2018\"\n",
    "model.fit(X, y)\n",
    "print(f\"DomesticMig model Score: {model.score(X, y)}\")\n",
    "y_min = model.predict(x_min)\n",
    "y_max = model.predict(x_max)\n",
    "plt.scatter(X, y, c='blue',label=nameYear)\n",
    "plt.plot([x_min[0], x_max[0]], [y_min[0], y_max[0]], c='red', label=name)\n",
    "plt.legend()\n",
    "plt.title(name)\n",
    "predicted1 = model.predict([[Year1]])\n",
    "predicted2 = model.predict([[Year2]])\n",
    "predicted3 = model.predict([[Year3]])\n",
    "print(f\"{Year1} {name} : {predicted1[(0,0)]}\")\n",
    "print(f\"{Year2} {name} : {predicted2[(0,0)]}\")\n",
    "print(f\"{Year3} {name} : {predicted3[(0,0)]}\")\n",
    "DomesticMig_predicted1=predicted1[0]\n",
    "DomesticMig_predicted2=predicted2[0]\n",
    "DomesticMig_predicted3=predicted3[0]"
   ]
  },
  {
   "cell_type": "code",
   "execution_count": 9,
   "metadata": {},
   "outputs": [
    {
     "name": "stdout",
     "output_type": "stream",
     "text": [
      "CivilianLaborForce model Score: 0.983396324723388\n",
      "2019 CivilianLaborForce : 13950717.285714269\n",
      "2020 CivilianLaborForce : 14135531.238095224\n",
      "2021 CivilianLaborForce : 14320345.19047618\n"
     ]
    },
    {
     "data": {
      "image/png": "[encoded data removed]",
      "text/plain": [
       "<Figure size 432x288 with 1 Axes>"
      ]
     },
     "metadata": {
      "needs_background": "light"
     },
     "output_type": "display_data"
    }
   ],
   "source": [
    "# fit the model to the CivilianLaborForce data and predict\n",
    "y=TX.CivilianLaborForce.values.reshape(-1, 1)\n",
    "name=\"CivilianLaborForce\"\n",
    "nameYear=name+\" 2010-2018\"\n",
    "model.fit(X, y)\n",
    "print(f\"CivilianLaborForce model Score: {model.score(X, y)}\")\n",
    "y_min = model.predict(x_min)\n",
    "y_max = model.predict(x_max)\n",
    "plt.scatter(X, y, c='blue',label=nameYear)\n",
    "plt.plot([x_min[0], x_max[0]], [y_min[0], y_max[0]], c='red', label=name)\n",
    "plt.legend()\n",
    "plt.title(name)\n",
    "predicted1 = model.predict([[Year1]])\n",
    "predicted2 = model.predict([[Year2]])\n",
    "predicted3 = model.predict([[Year3]])\n",
    "print(f\"{Year1} {name} : {predicted1[(0,0)]}\")\n",
    "print(f\"{Year2} {name} : {predicted2[(0,0)]}\")\n",
    "print(f\"{Year3} {name} : {predicted3[(0,0)]}\")\n",
    "CivilianLaborForce_predicted1=predicted1[0]\n",
    "CivilianLaborForce_predicted2=predicted2[0]\n",
    "CivilianLaborForce_predicted3=predicted3[0]"
   ]
  },
  {
   "cell_type": "code",
   "execution_count": 10,
   "metadata": {},
   "outputs": [
    {
     "name": "stdout",
     "output_type": "stream",
     "text": [
      "UnemploymentRate model Score: 0.9002474119120636\n",
      "2019 UnemploymentRate : 2.9714285714285325\n",
      "2020 UnemploymentRate : 2.434523809523853\n",
      "2021 UnemploymentRate : 1.8976190476191732\n"
     ]
    },
    {
     "data": {
      "image/png": "[encoded data removed]",
      "text/plain": [
       "<Figure size 432x288 with 1 Axes>"
      ]
     },
     "metadata": {
      "needs_background": "light"
     },
     "output_type": "display_data"
    }
   ],
   "source": [
    "# fit the model to the UnemploymentRate data and predict\n",
    "y=TX.UnemploymentRate.values.reshape(-1, 1)\n",
    "name=\"UnemploymentRate\"\n",
    "nameYear=name+\" 2010-2018\"\n",
    "model.fit(X, y)\n",
    "print(f\"UnemploymentRate model Score: {model.score(X, y)}\")\n",
    "y_min = model.predict(x_min)\n",
    "y_max = model.predict(x_max)\n",
    "plt.scatter(X, y, c='blue',label=nameYear)\n",
    "plt.plot([x_min[0], x_max[0]], [y_min[0], y_max[0]], c='red', label=name)\n",
    "plt.legend()\n",
    "plt.title(name)\n",
    "predicted1 = model.predict([[Year1]])\n",
    "predicted2 = model.predict([[Year2]])\n",
    "predicted3 = model.predict([[Year3]])\n",
    "print(f\"{Year1} {name} : {predicted1[(0,0)]}\")\n",
    "print(f\"{Year2} {name} : {predicted2[(0,0)]}\")\n",
    "print(f\"{Year3} {name} : {predicted3[(0,0)]}\")\n",
    "UnemploymentRate_predicted1=predicted1[0]\n",
    "UnemploymentRate_predicted2=predicted2[0]\n",
    "UnemploymentRate_predicted3=predicted3[0]"
   ]
  },
  {
   "cell_type": "code",
   "execution_count": 11,
   "metadata": {},
   "outputs": [],
   "source": [
    "# use small predict model results for the final model input\n",
    "X_prediction2019=pd.DataFrame({\"Births\": Births_predicted1,\n",
    "                           \"Deaths\": Deaths_predicted1,\n",
    "                           \"InternationalMig\": InternationalMig_predicted1,\n",
    "                           \"DomesticMig\": DomesticMig_predicted1,\n",
    "                           \"CivilianLaborForce\": CivilianLaborForce_predicted1,\n",
    "                           \"UnemploymentRate\": UnemploymentRate_predicted1})\n",
    "X_prediction2020=pd.DataFrame({\"Births\": Births_predicted2,\n",
    "                           \"Deaths\": Deaths_predicted2,\n",
    "                           \"InternationalMig\": InternationalMig_predicted2,\n",
    "                           \"DomesticMig\": DomesticMig_predicted2,\n",
    "                           \"CivilianLaborForce\": CivilianLaborForce_predicted2,\n",
    "                           \"UnemploymentRate\": UnemploymentRate_predicted2})\n",
    "X_prediction2021=pd.DataFrame({\"Births\": Births_predicted3,\n",
    "                           \"Deaths\": Deaths_predicted3,\n",
    "                           \"InternationalMig\": InternationalMig_predicted3,\n",
    "                           \"DomesticMig\": DomesticMig_predicted3,\n",
    "                           \"CivilianLaborForce\": CivilianLaborForce_predicted3,\n",
    "                           \"UnemploymentRate\": UnemploymentRate_predicted3})"
   ]
  },
  {
   "cell_type": "code",
   "execution_count": 12,
   "metadata": {},
   "outputs": [
    {
     "name": "stdout",
     "output_type": "stream",
     "text": [
      "          Births    Deaths  InternationalMig   DomesticMig  \\\n",
      "0  402370.535714  205256.5          121861.0  97568.071429   \n",
      "\n",
      "   CivilianLaborForce  UnemploymentRate  \n",
      "0        1.395072e+07          2.971429  \n",
      "          Births         Deaths  InternationalMig  DomesticMig  \\\n",
      "0  404883.321429  210028.333333     126780.833333  91710.97619   \n",
      "\n",
      "   CivilianLaborForce  UnemploymentRate  \n",
      "0        1.413553e+07          2.434524  \n",
      "          Births         Deaths  InternationalMig   DomesticMig  \\\n",
      "0  407396.107143  214800.166667     131700.666667  85853.880952   \n",
      "\n",
      "   CivilianLaborForce  UnemploymentRate  \n",
      "0        1.432035e+07          1.897619  \n"
     ]
    }
   ],
   "source": [
    "print(X_prediction2019)\n",
    "print(X_prediction2020)\n",
    "print(X_prediction2021)"
   ]
  },
  {
   "cell_type": "code",
   "execution_count": 13,
   "metadata": {},
   "outputs": [
    {
     "name": "stdout",
     "output_type": "stream",
     "text": [
      "X y Shape:  (8, 6) (8, 1)\n",
      "population model Score: 0.9997654834426795\n"
     ]
    }
   ],
   "source": [
    "# Assign the data to X and y for the polulation model and fit\n",
    "X = TX[[\"Births\",\"Deaths\",\"InternationalMig\",\"DomesticMig\",\"CivilianLaborForce\",\"UnemploymentRate\"]]\n",
    "y = TX[\"Population\"].values.reshape(-1, 1)\n",
    "print(\"X y Shape: \", X.shape, y.shape)\n",
    "from sklearn.linear_model import LinearRegression\n",
    "model = LinearRegression()\n",
    "model.fit(X, y)\n",
    "print(f\"population model Score: {model.score(X, y)}\")"
   ]
  },
  {
   "cell_type": "code",
   "execution_count": 14,
   "metadata": {},
   "outputs": [
    {
     "data": {
      "image/png": "[encoded data removed]",
      "text/plain": [
       "<Figure size 432x288 with 1 Axes>"
      ]
     },
     "metadata": {
      "needs_background": "light"
     },
     "output_type": "display_data"
    }
   ],
   "source": [
    "# residual plot \n",
    "predictions = model.predict(X)\n",
    "# Plot Residuals\n",
    "plt.scatter(predictions, (predictions - y)/predictions*100 ,label=\"Residuals Persantage %\")\n",
    "plt.hlines(y=0, xmin=predictions.min(), xmax=predictions.max())\n",
    "plt.legend()\n",
    "plt.title(\"Residuals Persantage\")\n",
    "plt.show()"
   ]
  },
  {
   "cell_type": "code",
   "execution_count": 15,
   "metadata": {},
   "outputs": [
    {
     "name": "stdout",
     "output_type": "stream",
     "text": [
      "2019 population : 29210265\n",
      "2020 population : 29655566\n",
      "2021 population : 30100866\n"
     ]
    }
   ],
   "source": [
    "predictions2019 = model.predict(X_prediction2019)\n",
    "predictions2020 = model.predict(X_prediction2020)\n",
    "predictions2021 = model.predict(X_prediction2021)\n",
    "print(f\"{Year1} population : {int(predictions2019[(0,0)])}\")\n",
    "print(f\"{Year2} population : {int(predictions2020[(0,0)])}\")\n",
    "print(f\"{Year3} population : {int(predictions2021[(0,0)])}\")"
   ]
  },
  {
   "cell_type": "code",
   "execution_count": null,
   "metadata": {},
   "outputs": [],
   "source": []
  },
  {
   "cell_type": "code",
   "execution_count": 24,
   "metadata": {},
   "outputs": [
    {
     "data": {
      "text/html": [
       "<div>\n",
       "<style scoped>\n",
       "    .dataframe tbody tr th:only-of-type {\n",
       "        vertical-align: middle;\n",
       "    }\n",
       "\n",
       "    .dataframe tbody tr th {\n",
       "        vertical-align: top;\n",
       "    }\n",
       "\n",
       "    .dataframe thead th {\n",
       "        text-align: right;\n",
       "    }\n",
       "</style>\n",
       "<table border=\"1\" class=\"dataframe\">\n",
       "  <thead>\n",
       "    <tr style=\"text-align: right;\">\n",
       "      <th></th>\n",
       "      <th>State</th>\n",
       "      <th>Area_Name</th>\n",
       "      <th>Year</th>\n",
       "      <th>Population</th>\n",
       "      <th>Births</th>\n",
       "      <th>Deaths</th>\n",
       "      <th>InternationalMig</th>\n",
       "      <th>DomesticMig</th>\n",
       "      <th>CivilianLaborForce</th>\n",
       "      <th>UnemploymentRate</th>\n",
       "    </tr>\n",
       "  </thead>\n",
       "  <tbody>\n",
       "    <tr>\n",
       "      <th>0</th>\n",
       "      <td>AL</td>\n",
       "      <td>Alabama</td>\n",
       "      <td>2011</td>\n",
       "      <td>4798834</td>\n",
       "      <td>59689</td>\n",
       "      <td>48818</td>\n",
       "      <td>4716</td>\n",
       "      <td>-2239</td>\n",
       "      <td>2202670</td>\n",
       "      <td>9.6</td>\n",
       "    </tr>\n",
       "    <tr>\n",
       "      <th>1</th>\n",
       "      <td>AK</td>\n",
       "      <td>Alaska</td>\n",
       "      <td>2011</td>\n",
       "      <td>722038</td>\n",
       "      <td>11702</td>\n",
       "      <td>3936</td>\n",
       "      <td>1320</td>\n",
       "      <td>-979</td>\n",
       "      <td>365913</td>\n",
       "      <td>7.6</td>\n",
       "    </tr>\n",
       "    <tr>\n",
       "      <th>2</th>\n",
       "      <td>AZ</td>\n",
       "      <td>Arizona</td>\n",
       "      <td>2011</td>\n",
       "      <td>6473497</td>\n",
       "      <td>86103</td>\n",
       "      <td>48157</td>\n",
       "      <td>17126</td>\n",
       "      <td>10583</td>\n",
       "      <td>3037017</td>\n",
       "      <td>9.5</td>\n",
       "    </tr>\n",
       "    <tr>\n",
       "      <th>3</th>\n",
       "      <td>AR</td>\n",
       "      <td>Arkansas</td>\n",
       "      <td>2011</td>\n",
       "      <td>2940407</td>\n",
       "      <td>38442</td>\n",
       "      <td>29463</td>\n",
       "      <td>3717</td>\n",
       "      <td>5504</td>\n",
       "      <td>1362682</td>\n",
       "      <td>8.3</td>\n",
       "    </tr>\n",
       "    <tr>\n",
       "      <th>4</th>\n",
       "      <td>CA</td>\n",
       "      <td>California</td>\n",
       "      <td>2011</td>\n",
       "      <td>37641823</td>\n",
       "      <td>509763</td>\n",
       "      <td>238444</td>\n",
       "      <td>105527</td>\n",
       "      <td>-53949</td>\n",
       "      <td>18415100</td>\n",
       "      <td>11.7</td>\n",
       "    </tr>\n",
       "    <tr>\n",
       "      <th>5</th>\n",
       "      <td>CO</td>\n",
       "      <td>Colorado</td>\n",
       "      <td>2011</td>\n",
       "      <td>5121771</td>\n",
       "      <td>65919</td>\n",
       "      <td>32015</td>\n",
       "      <td>12670</td>\n",
       "      <td>26255</td>\n",
       "      <td>2736079</td>\n",
       "      <td>8.4</td>\n",
       "    </tr>\n",
       "    <tr>\n",
       "      <th>6</th>\n",
       "      <td>CT</td>\n",
       "      <td>Connecticut</td>\n",
       "      <td>2011</td>\n",
       "      <td>3588023</td>\n",
       "      <td>37642</td>\n",
       "      <td>29315</td>\n",
       "      <td>13027</td>\n",
       "      <td>-12343</td>\n",
       "      <td>1914775</td>\n",
       "      <td>8.8</td>\n",
       "    </tr>\n",
       "    <tr>\n",
       "      <th>7</th>\n",
       "      <td>DE</td>\n",
       "      <td>Delaware</td>\n",
       "      <td>2011</td>\n",
       "      <td>907316</td>\n",
       "      <td>11301</td>\n",
       "      <td>7872</td>\n",
       "      <td>1556</td>\n",
       "      <td>2782</td>\n",
       "      <td>443346</td>\n",
       "      <td>7.5</td>\n",
       "    </tr>\n",
       "    <tr>\n",
       "      <th>8</th>\n",
       "      <td>DC</td>\n",
       "      <td>District of Columbia</td>\n",
       "      <td>2011</td>\n",
       "      <td>619602</td>\n",
       "      <td>9199</td>\n",
       "      <td>4672</td>\n",
       "      <td>2429</td>\n",
       "      <td>7251</td>\n",
       "      <td>350778</td>\n",
       "      <td>10.2</td>\n",
       "    </tr>\n",
       "    <tr>\n",
       "      <th>9</th>\n",
       "      <td>FL</td>\n",
       "      <td>Florida</td>\n",
       "      <td>2011</td>\n",
       "      <td>19093352</td>\n",
       "      <td>213213</td>\n",
       "      <td>174508</td>\n",
       "      <td>101645</td>\n",
       "      <td>106023</td>\n",
       "      <td>9300542</td>\n",
       "      <td>10.0</td>\n",
       "    </tr>\n",
       "  </tbody>\n",
       "</table>\n",
       "</div>"
      ],
      "text/plain": [
       "  State             Area_Name  Year  Population  Births  Deaths  \\\n",
       "0    AL               Alabama  2011     4798834   59689   48818   \n",
       "1    AK                Alaska  2011      722038   11702    3936   \n",
       "2    AZ               Arizona  2011     6473497   86103   48157   \n",
       "3    AR              Arkansas  2011     2940407   38442   29463   \n",
       "4    CA            California  2011    37641823  509763  238444   \n",
       "5    CO              Colorado  2011     5121771   65919   32015   \n",
       "6    CT           Connecticut  2011     3588023   37642   29315   \n",
       "7    DE              Delaware  2011      907316   11301    7872   \n",
       "8    DC  District of Columbia  2011      619602    9199    4672   \n",
       "9    FL               Florida  2011    19093352  213213  174508   \n",
       "\n",
       "   InternationalMig  DomesticMig  CivilianLaborForce  UnemploymentRate  \n",
       "0              4716        -2239             2202670               9.6  \n",
       "1              1320         -979              365913               7.6  \n",
       "2             17126        10583             3037017               9.5  \n",
       "3              3717         5504             1362682               8.3  \n",
       "4            105527       -53949            18415100              11.7  \n",
       "5             12670        26255             2736079               8.4  \n",
       "6             13027       -12343             1914775               8.8  \n",
       "7              1556         2782              443346               7.5  \n",
       "8              2429         7251              350778              10.2  \n",
       "9            101645       106023             9300542              10.0  "
      ]
     },
     "execution_count": 24,
     "metadata": {},
     "output_type": "execute_result"
    }
   ],
   "source": [
    "# Read the csv file into a pandas DataFrame\n",
    "pop = pd.read_csv('../Resources/population_2011_2018.csv')\n",
    "pop.head(10)"
   ]
  },
  {
   "cell_type": "code",
   "execution_count": 36,
   "metadata": {},
   "outputs": [
    {
     "data": {
      "text/html": [
       "<div>\n",
       "<style scoped>\n",
       "    .dataframe tbody tr th:only-of-type {\n",
       "        vertical-align: middle;\n",
       "    }\n",
       "\n",
       "    .dataframe tbody tr th {\n",
       "        vertical-align: top;\n",
       "    }\n",
       "\n",
       "    .dataframe thead th {\n",
       "        text-align: right;\n",
       "    }\n",
       "</style>\n",
       "<table border=\"1\" class=\"dataframe\">\n",
       "  <thead>\n",
       "    <tr style=\"text-align: right;\">\n",
       "      <th></th>\n",
       "      <th>Area_Name</th>\n",
       "      <th>Year</th>\n",
       "      <th>Population</th>\n",
       "      <th>Births</th>\n",
       "      <th>Deaths</th>\n",
       "      <th>InternationalMig</th>\n",
       "      <th>DomesticMig</th>\n",
       "      <th>CivilianLaborForce</th>\n",
       "      <th>UnemploymentRate</th>\n",
       "    </tr>\n",
       "  </thead>\n",
       "  <tbody>\n",
       "    <tr>\n",
       "      <th>43</th>\n",
       "      <td>Texas</td>\n",
       "      <td>2011</td>\n",
       "      <td>25646227</td>\n",
       "      <td>381742</td>\n",
       "      <td>168090</td>\n",
       "      <td>71953</td>\n",
       "      <td>117054</td>\n",
       "      <td>12504498</td>\n",
       "      <td>7.8</td>\n",
       "    </tr>\n",
       "    <tr>\n",
       "      <th>94</th>\n",
       "      <td>Texas</td>\n",
       "      <td>2012</td>\n",
       "      <td>26089620</td>\n",
       "      <td>378109</td>\n",
       "      <td>169149</td>\n",
       "      <td>88080</td>\n",
       "      <td>143712</td>\n",
       "      <td>12670455</td>\n",
       "      <td>6.7</td>\n",
       "    </tr>\n",
       "    <tr>\n",
       "      <th>145</th>\n",
       "      <td>Texas</td>\n",
       "      <td>2013</td>\n",
       "      <td>26489464</td>\n",
       "      <td>384420</td>\n",
       "      <td>178632</td>\n",
       "      <td>83041</td>\n",
       "      <td>108849</td>\n",
       "      <td>12857595</td>\n",
       "      <td>6.3</td>\n",
       "    </tr>\n",
       "    <tr>\n",
       "      <th>196</th>\n",
       "      <td>Texas</td>\n",
       "      <td>2014</td>\n",
       "      <td>26977142</td>\n",
       "      <td>394325</td>\n",
       "      <td>180772</td>\n",
       "      <td>110340</td>\n",
       "      <td>160926</td>\n",
       "      <td>13039452</td>\n",
       "      <td>5.1</td>\n",
       "    </tr>\n",
       "    <tr>\n",
       "      <th>247</th>\n",
       "      <td>Texas</td>\n",
       "      <td>2015</td>\n",
       "      <td>27486814</td>\n",
       "      <td>402277</td>\n",
       "      <td>187892</td>\n",
       "      <td>121124</td>\n",
       "      <td>172520</td>\n",
       "      <td>13095837</td>\n",
       "      <td>4.4</td>\n",
       "    </tr>\n",
       "    <tr>\n",
       "      <th>298</th>\n",
       "      <td>Texas</td>\n",
       "      <td>2016</td>\n",
       "      <td>27937492</td>\n",
       "      <td>400968</td>\n",
       "      <td>188835</td>\n",
       "      <td>115228</td>\n",
       "      <td>122969</td>\n",
       "      <td>13347311</td>\n",
       "      <td>4.6</td>\n",
       "    </tr>\n",
       "    <tr>\n",
       "      <th>349</th>\n",
       "      <td>Texas</td>\n",
       "      <td>2017</td>\n",
       "      <td>28322717</td>\n",
       "      <td>395212</td>\n",
       "      <td>196396</td>\n",
       "      <td>103032</td>\n",
       "      <td>82801</td>\n",
       "      <td>13589208</td>\n",
       "      <td>4.3</td>\n",
       "    </tr>\n",
       "    <tr>\n",
       "      <th>400</th>\n",
       "      <td>Texas</td>\n",
       "      <td>2018</td>\n",
       "      <td>28701845</td>\n",
       "      <td>391451</td>\n",
       "      <td>200500</td>\n",
       "      <td>104976</td>\n",
       "      <td>82569</td>\n",
       "      <td>13848080</td>\n",
       "      <td>3.9</td>\n",
       "    </tr>\n",
       "  </tbody>\n",
       "</table>\n",
       "</div>"
      ],
      "text/plain": [
       "    Area_Name  Year  Population  Births  Deaths  InternationalMig  \\\n",
       "43      Texas  2011    25646227  381742  168090             71953   \n",
       "94      Texas  2012    26089620  378109  169149             88080   \n",
       "145     Texas  2013    26489464  384420  178632             83041   \n",
       "196     Texas  2014    26977142  394325  180772            110340   \n",
       "247     Texas  2015    27486814  402277  187892            121124   \n",
       "298     Texas  2016    27937492  400968  188835            115228   \n",
       "349     Texas  2017    28322717  395212  196396            103032   \n",
       "400     Texas  2018    28701845  391451  200500            104976   \n",
       "\n",
       "     DomesticMig  CivilianLaborForce  UnemploymentRate  \n",
       "43        117054            12504498               7.8  \n",
       "94        143712            12670455               6.7  \n",
       "145       108849            12857595               6.3  \n",
       "196       160926            13039452               5.1  \n",
       "247       172520            13095837               4.4  \n",
       "298       122969            13347311               4.6  \n",
       "349        82801            13589208               4.3  \n",
       "400        82569            13848080               3.9  "
      ]
     },
     "execution_count": 36,
     "metadata": {},
     "output_type": "execute_result"
    }
   ],
   "source": [
    "df = pop.groupby('State')\n",
    "df.first()\n",
    "df.get_group('TX') "
   ]
  },
  {
   "cell_type": "code",
   "execution_count": null,
   "metadata": {},
   "outputs": [],
   "source": []
  },
  {
   "cell_type": "code",
   "execution_count": null,
   "metadata": {},
   "outputs": [],
   "source": []
  }
 ],
 "metadata": {
  "kernelspec": {
   "display_name": "Python 3",
   "language": "python",
   "name": "python3"
  },
  "language_info": {
   "codemirror_mode": {
    "name": "ipython",
    "version": 3
   },
   "file_extension": ".py",
   "mimetype": "text/x-python",
   "name": "python",
   "nbconvert_exporter": "python",
   "pygments_lexer": "ipython3",
   "version": "3.7.3"
  }
 },
 "nbformat": 4,
 "nbformat_minor": 2
}
