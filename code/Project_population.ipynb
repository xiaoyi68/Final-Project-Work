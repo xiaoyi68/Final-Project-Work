{
 "cells": [
  {
   "cell_type": "code",
   "execution_count": 1,
   "metadata": {},
   "outputs": [],
   "source": [
    "%matplotlib inline\n",
    "import matplotlib.pyplot as plt\n",
    "import numpy as np\n",
    "import pandas as pd"
   ]
  },
  {
   "cell_type": "code",
   "execution_count": 2,
   "metadata": {},
   "outputs": [
    {
     "data": {
      "text/html": [
       "<div>\n",
       "<style scoped>\n",
       "    .dataframe tbody tr th:only-of-type {\n",
       "        vertical-align: middle;\n",
       "    }\n",
       "\n",
       "    .dataframe tbody tr th {\n",
       "        vertical-align: top;\n",
       "    }\n",
       "\n",
       "    .dataframe thead th {\n",
       "        text-align: right;\n",
       "    }\n",
       "</style>\n",
       "<table border=\"1\" class=\"dataframe\">\n",
       "  <thead>\n",
       "    <tr style=\"text-align: right;\">\n",
       "      <th></th>\n",
       "      <th>FIPS</th>\n",
       "      <th>State</th>\n",
       "      <th>Area_Name</th>\n",
       "      <th>Year</th>\n",
       "      <th>Population</th>\n",
       "      <th>Births</th>\n",
       "      <th>Deaths</th>\n",
       "      <th>InternationalMig</th>\n",
       "      <th>DomesticMig</th>\n",
       "      <th>CivilianLaborForce</th>\n",
       "      <th>UnemploymentRate</th>\n",
       "    </tr>\n",
       "  </thead>\n",
       "  <tbody>\n",
       "    <tr>\n",
       "      <th>0</th>\n",
       "      <td>1000</td>\n",
       "      <td>AL</td>\n",
       "      <td>Alabama</td>\n",
       "      <td>2011</td>\n",
       "      <td>4798834</td>\n",
       "      <td>59689</td>\n",
       "      <td>48818</td>\n",
       "      <td>4716</td>\n",
       "      <td>-2239</td>\n",
       "      <td>2202670</td>\n",
       "      <td>9.6</td>\n",
       "    </tr>\n",
       "    <tr>\n",
       "      <th>1</th>\n",
       "      <td>2000</td>\n",
       "      <td>AK</td>\n",
       "      <td>Alaska</td>\n",
       "      <td>2011</td>\n",
       "      <td>722038</td>\n",
       "      <td>11702</td>\n",
       "      <td>3936</td>\n",
       "      <td>1320</td>\n",
       "      <td>-979</td>\n",
       "      <td>365913</td>\n",
       "      <td>7.6</td>\n",
       "    </tr>\n",
       "    <tr>\n",
       "      <th>2</th>\n",
       "      <td>4000</td>\n",
       "      <td>AZ</td>\n",
       "      <td>Arizona</td>\n",
       "      <td>2011</td>\n",
       "      <td>6473497</td>\n",
       "      <td>86103</td>\n",
       "      <td>48157</td>\n",
       "      <td>17126</td>\n",
       "      <td>10583</td>\n",
       "      <td>3037017</td>\n",
       "      <td>9.5</td>\n",
       "    </tr>\n",
       "    <tr>\n",
       "      <th>3</th>\n",
       "      <td>5000</td>\n",
       "      <td>AR</td>\n",
       "      <td>Arkansas</td>\n",
       "      <td>2011</td>\n",
       "      <td>2940407</td>\n",
       "      <td>38442</td>\n",
       "      <td>29463</td>\n",
       "      <td>3717</td>\n",
       "      <td>5504</td>\n",
       "      <td>1362682</td>\n",
       "      <td>8.3</td>\n",
       "    </tr>\n",
       "    <tr>\n",
       "      <th>4</th>\n",
       "      <td>6000</td>\n",
       "      <td>CA</td>\n",
       "      <td>California</td>\n",
       "      <td>2011</td>\n",
       "      <td>37641823</td>\n",
       "      <td>509763</td>\n",
       "      <td>238444</td>\n",
       "      <td>105527</td>\n",
       "      <td>-53949</td>\n",
       "      <td>18415100</td>\n",
       "      <td>11.7</td>\n",
       "    </tr>\n",
       "  </tbody>\n",
       "</table>\n",
       "</div>"
      ],
      "text/plain": [
       "   FIPS State   Area_Name  Year  Population  Births  Deaths  InternationalMig  \\\n",
       "0  1000    AL     Alabama  2011     4798834   59689   48818              4716   \n",
       "1  2000    AK      Alaska  2011      722038   11702    3936              1320   \n",
       "2  4000    AZ     Arizona  2011     6473497   86103   48157             17126   \n",
       "3  5000    AR    Arkansas  2011     2940407   38442   29463              3717   \n",
       "4  6000    CA  California  2011    37641823  509763  238444            105527   \n",
       "\n",
       "   DomesticMig  CivilianLaborForce  UnemploymentRate  \n",
       "0        -2239             2202670               9.6  \n",
       "1         -979              365913               7.6  \n",
       "2        10583             3037017               9.5  \n",
       "3         5504             1362682               8.3  \n",
       "4       -53949            18415100              11.7  "
      ]
     },
     "execution_count": 2,
     "metadata": {},
     "output_type": "execute_result"
    }
   ],
   "source": [
    "# Read the csv file into a pandas DataFrame\n",
    "pop = pd.read_csv('../Resources/population_2011_2018.csv')\n",
    "pop.head()"
   ]
  },
  {
   "cell_type": "code",
   "execution_count": 3,
   "metadata": {},
   "outputs": [
    {
     "data": {
      "text/html": [
       "<div>\n",
       "<style scoped>\n",
       "    .dataframe tbody tr th:only-of-type {\n",
       "        vertical-align: middle;\n",
       "    }\n",
       "\n",
       "    .dataframe tbody tr th {\n",
       "        vertical-align: top;\n",
       "    }\n",
       "\n",
       "    .dataframe thead th {\n",
       "        text-align: right;\n",
       "    }\n",
       "</style>\n",
       "<table border=\"1\" class=\"dataframe\">\n",
       "  <thead>\n",
       "    <tr style=\"text-align: right;\">\n",
       "      <th></th>\n",
       "      <th>index</th>\n",
       "      <th>FIPS</th>\n",
       "      <th>State</th>\n",
       "      <th>Area_Name</th>\n",
       "      <th>Year</th>\n",
       "      <th>Population</th>\n",
       "      <th>Births</th>\n",
       "      <th>Deaths</th>\n",
       "      <th>InternationalMig</th>\n",
       "      <th>DomesticMig</th>\n",
       "      <th>CivilianLaborForce</th>\n",
       "      <th>UnemploymentRate</th>\n",
       "    </tr>\n",
       "  </thead>\n",
       "  <tbody>\n",
       "    <tr>\n",
       "      <th>0</th>\n",
       "      <td>32</td>\n",
       "      <td>36000</td>\n",
       "      <td>NY</td>\n",
       "      <td>New York</td>\n",
       "      <td>2011</td>\n",
       "      <td>19498514</td>\n",
       "      <td>243113</td>\n",
       "      <td>149752</td>\n",
       "      <td>87879</td>\n",
       "      <td>-82398</td>\n",
       "      <td>9517361</td>\n",
       "      <td>8.3</td>\n",
       "    </tr>\n",
       "    <tr>\n",
       "      <th>1</th>\n",
       "      <td>83</td>\n",
       "      <td>36000</td>\n",
       "      <td>NY</td>\n",
       "      <td>New York</td>\n",
       "      <td>2012</td>\n",
       "      <td>19574549</td>\n",
       "      <td>239922</td>\n",
       "      <td>146900</td>\n",
       "      <td>90870</td>\n",
       "      <td>-107485</td>\n",
       "      <td>9612232</td>\n",
       "      <td>8.5</td>\n",
       "    </tr>\n",
       "    <tr>\n",
       "      <th>2</th>\n",
       "      <td>134</td>\n",
       "      <td>36000</td>\n",
       "      <td>NY</td>\n",
       "      <td>New York</td>\n",
       "      <td>2013</td>\n",
       "      <td>19628043</td>\n",
       "      <td>239872</td>\n",
       "      <td>152576</td>\n",
       "      <td>78677</td>\n",
       "      <td>-111926</td>\n",
       "      <td>9659170</td>\n",
       "      <td>7.7</td>\n",
       "    </tr>\n",
       "    <tr>\n",
       "      <th>3</th>\n",
       "      <td>185</td>\n",
       "      <td>36000</td>\n",
       "      <td>NY</td>\n",
       "      <td>New York</td>\n",
       "      <td>2014</td>\n",
       "      <td>19656330</td>\n",
       "      <td>237032</td>\n",
       "      <td>148844</td>\n",
       "      <td>85344</td>\n",
       "      <td>-145183</td>\n",
       "      <td>9529418</td>\n",
       "      <td>6.3</td>\n",
       "    </tr>\n",
       "    <tr>\n",
       "      <th>4</th>\n",
       "      <td>236</td>\n",
       "      <td>36000</td>\n",
       "      <td>NY</td>\n",
       "      <td>New York</td>\n",
       "      <td>2015</td>\n",
       "      <td>19661411</td>\n",
       "      <td>239363</td>\n",
       "      <td>153820</td>\n",
       "      <td>85244</td>\n",
       "      <td>-165895</td>\n",
       "      <td>9561878</td>\n",
       "      <td>5.3</td>\n",
       "    </tr>\n",
       "    <tr>\n",
       "      <th>5</th>\n",
       "      <td>287</td>\n",
       "      <td>36000</td>\n",
       "      <td>NY</td>\n",
       "      <td>New York</td>\n",
       "      <td>2016</td>\n",
       "      <td>19641589</td>\n",
       "      <td>235826</td>\n",
       "      <td>151568</td>\n",
       "      <td>88905</td>\n",
       "      <td>-193186</td>\n",
       "      <td>9557094</td>\n",
       "      <td>4.9</td>\n",
       "    </tr>\n",
       "    <tr>\n",
       "      <th>6</th>\n",
       "      <td>338</td>\n",
       "      <td>36000</td>\n",
       "      <td>NY</td>\n",
       "      <td>New York</td>\n",
       "      <td>2017</td>\n",
       "      <td>19590719</td>\n",
       "      <td>230364</td>\n",
       "      <td>160681</td>\n",
       "      <td>67949</td>\n",
       "      <td>-188585</td>\n",
       "      <td>9561400</td>\n",
       "      <td>4.7</td>\n",
       "    </tr>\n",
       "    <tr>\n",
       "      <th>7</th>\n",
       "      <td>389</td>\n",
       "      <td>36000</td>\n",
       "      <td>NY</td>\n",
       "      <td>New York</td>\n",
       "      <td>2018</td>\n",
       "      <td>19542209</td>\n",
       "      <td>227099</td>\n",
       "      <td>165728</td>\n",
       "      <td>70375</td>\n",
       "      <td>-180306</td>\n",
       "      <td>9574706</td>\n",
       "      <td>4.1</td>\n",
       "    </tr>\n",
       "  </tbody>\n",
       "</table>\n",
       "</div>"
      ],
      "text/plain": [
       "   index   FIPS State Area_Name  Year  Population  Births  Deaths  \\\n",
       "0     32  36000    NY  New York  2011    19498514  243113  149752   \n",
       "1     83  36000    NY  New York  2012    19574549  239922  146900   \n",
       "2    134  36000    NY  New York  2013    19628043  239872  152576   \n",
       "3    185  36000    NY  New York  2014    19656330  237032  148844   \n",
       "4    236  36000    NY  New York  2015    19661411  239363  153820   \n",
       "5    287  36000    NY  New York  2016    19641589  235826  151568   \n",
       "6    338  36000    NY  New York  2017    19590719  230364  160681   \n",
       "7    389  36000    NY  New York  2018    19542209  227099  165728   \n",
       "\n",
       "   InternationalMig  DomesticMig  CivilianLaborForce  UnemploymentRate  \n",
       "0             87879       -82398             9517361               8.3  \n",
       "1             90870      -107485             9612232               8.5  \n",
       "2             78677      -111926             9659170               7.7  \n",
       "3             85344      -145183             9529418               6.3  \n",
       "4             85244      -165895             9561878               5.3  \n",
       "5             88905      -193186             9557094               4.9  \n",
       "6             67949      -188585             9561400               4.7  \n",
       "7             70375      -180306             9574706               4.1  "
      ]
     },
     "execution_count": 3,
     "metadata": {},
     "output_type": "execute_result"
    }
   ],
   "source": [
    "State='NY'\n",
    "data= pop.groupby('State').get_group(State).reset_index() \n",
    "data.head(8)"
   ]
  },
  {
   "cell_type": "code",
   "execution_count": 4,
   "metadata": {},
   "outputs": [],
   "source": [
    "# Assign the data to X and y for six small models\n",
    "X1 = data.Year.values.reshape(-1, 1)\n",
    "y1 = data.Population.values.reshape(-1, 1)\n",
    "y2 = data.Births.values.reshape(-1, 1)\n",
    "y3 = data.Deaths.values.reshape(-1, 1)\n",
    "y4 = data.InternationalMig.values.reshape(-1, 1)\n",
    "y5 = data.DomesticMig.values.reshape(-1, 1)\n",
    "y6 = data.CivilianLaborForce.values.reshape(-1, 1)\n",
    "y7 = data.UnemploymentRate.values.reshape(-1, 1)\n",
    "x_min = np.array([[X1.min()]])\n",
    "x_max = np.array([[X1.max()]])\n",
    "State_Births=[]\n",
    "State_Deaths=[]\n",
    "State_populationPrediction=[]\n",
    "State_InternationalMig=[]\n",
    "State_DomesticMig=[]\n",
    "State_CivilianLaborForce=[]\n",
    "State_UnemploymentRate=[]\n",
    "year_list = [2019,2020,2021] \n",
    "FIPS_list=[data.FIPS[1],data.FIPS[1],data.FIPS[1]]\n",
    "State_list=[State,State,State]\n",
    "Area_Name_list=[data.Area_Name[1],data.Area_Name[1],data.Area_Name[1]]\n",
    "Year1=2019\n",
    "Year2=2020\n",
    "Year3=2021"
   ]
  },
  {
   "cell_type": "code",
   "execution_count": 5,
   "metadata": {},
   "outputs": [],
   "source": [
    "# Create the model and fit the model to the data\n",
    "from sklearn.linear_model import LinearRegression\n",
    "model = LinearRegression()"
   ]
  },
  {
   "cell_type": "code",
   "execution_count": 6,
   "metadata": {},
   "outputs": [
    {
     "name": "stdout",
     "output_type": "stream",
     "text": [
      "Births model Score: 0.8496775418729402\n",
      "New York 2019 Births : 227483.07142857136\n",
      "New York 2020 Births : 225462.89285714272\n",
      "New York 2021 Births : 223442.7142857141\n"
     ]
    },
    {
     "data": {
      "image/png": "[encoded data removed]",
      "text/plain": [
       "<Figure size 432x288 with 1 Axes>"
      ]
     },
     "metadata": {
      "needs_background": "light"
     },
     "output_type": "display_data"
    }
   ],
   "source": [
    "# fit the model to the Births data and predict\n",
    "X=X1\n",
    "y=y2\n",
    "name=\"Births\"\n",
    "nameYear=name+\" 2010-2018\"\n",
    "model.fit(X, y)\n",
    "print(f\"Births model Score: {model.score(X, y)}\")\n",
    "y_min = model.predict(x_min)\n",
    "y_max = model.predict(x_max)\n",
    "plt.scatter(X, y, c='blue',label=nameYear)\n",
    "plt.plot([x_min[0], x_max[0]], [y_min[0], y_max[0]], c='red', label=name)\n",
    "plt.legend()\n",
    "plt.title(name)\n",
    "predicted1 = model.predict([[Year1]])\n",
    "predicted2 = model.predict([[Year2]])\n",
    "predicted3 = model.predict([[Year3]])\n",
    "print(f\"{data.Area_Name[1]} {Year1} {name} : {predicted1[(0,0)]}\")\n",
    "print(f\"{data.Area_Name[1]} {Year2} {name} : {predicted2[(0,0)]}\")\n",
    "print(f\"{data.Area_Name[1]} {Year3} {name} : {predicted3[(0,0)]}\")\n",
    "Births_predicted1=predicted1[0]\n",
    "Births_predicted2=predicted2[0]\n",
    "Births_predicted3=predicted3[0]\n",
    "State_Births.append(predicted1[(0,0)])\n",
    "State_Births.append(predicted2[(0,0)]) \n",
    "State_Births.append(predicted3[(0,0)]) "
   ]
  },
  {
   "cell_type": "code",
   "execution_count": 7,
   "metadata": {},
   "outputs": [
    {
     "name": "stdout",
     "output_type": "stream",
     "text": [
      "Deaths model Score: 0.6979700145792709\n",
      "New York 2019 Deaths : 163520.53571428545\n",
      "New York 2020 Deaths : 165695.40476190485\n",
      "New York 2021 Deaths : 167870.27380952332\n"
     ]
    },
    {
     "data": {
      "image/png": "[encoded data removed]",
      "text/plain": [
       "<Figure size 432x288 with 1 Axes>"
      ]
     },
     "metadata": {
      "needs_background": "light"
     },
     "output_type": "display_data"
    }
   ],
   "source": [
    "# fit the model to the Deaths data and predict\n",
    "X=X1\n",
    "y=y3\n",
    "name=\"Deaths\"\n",
    "nameYear=name+\" 2010-2018\"\n",
    "model.fit(X, y)\n",
    "print(f\"Deaths model Score: {model.score(X, y)}\")\n",
    "y_min = model.predict(x_min)\n",
    "y_max = model.predict(x_max)\n",
    "plt.scatter(X, y, c='blue',label=nameYear)\n",
    "plt.plot([x_min[0], x_max[0]], [y_min[0], y_max[0]], c='red', label=name)\n",
    "plt.legend()\n",
    "plt.title(name)\n",
    "predicted1 = model.predict([[Year1]])\n",
    "predicted2 = model.predict([[Year2]])\n",
    "predicted3 = model.predict([[Year3]])\n",
    "print(f\"{data.Area_Name[1]} {Year1} {name} : {predicted1[(0,0)]}\")\n",
    "print(f\"{data.Area_Name[1]} {Year2} {name} : {predicted2[(0,0)]}\")\n",
    "print(f\"{data.Area_Name[1]} {Year3} {name} : {predicted3[(0,0)]}\")\n",
    "Deaths_predicted1=predicted1[0]\n",
    "Deaths_predicted2=predicted2[0]\n",
    "Deaths_predicted3=predicted3[0]\n",
    "State_Deaths.append(predicted1[(0,0)])\n",
    "State_Deaths.append(predicted2[(0,0)]) \n",
    "State_Deaths.append(predicted3[(0,0)]) "
   ]
  },
  {
   "cell_type": "code",
   "execution_count": 8,
   "metadata": {},
   "outputs": [
    {
     "name": "stdout",
     "output_type": "stream",
     "text": [
      "InternationalMig model Score: 0.482629464161732\n",
      "New York 2019 InternationalMig : 70840.25\n",
      "New York 2020 InternationalMig : 68381.33333333395\n",
      "New York 2021 InternationalMig : 65922.41666666698\n"
     ]
    },
    {
     "data": {
      "image/png": "[encoded data removed]",
      "text/plain": [
       "<Figure size 432x288 with 1 Axes>"
      ]
     },
     "metadata": {
      "needs_background": "light"
     },
     "output_type": "display_data"
    }
   ],
   "source": [
    "# fit the model to the InternationalMig data and predict\n",
    "X=X1\n",
    "y=y4\n",
    "name=\"InternationalMig\"\n",
    "nameYear=name+\" 2010-2018\"\n",
    "model.fit(X, y)\n",
    "print(f\"InternationalMig model Score: {model.score(X, y)}\")\n",
    "y_min = model.predict(x_min)\n",
    "y_max = model.predict(x_max)\n",
    "plt.scatter(X, y, c='blue',label=nameYear)\n",
    "plt.plot([x_min[0], x_max[0]], [y_min[0], y_max[0]], c='red', label=name)\n",
    "plt.legend()\n",
    "plt.title(name)\n",
    "predicted1 = model.predict([[Year1]])\n",
    "predicted2 = model.predict([[Year2]])\n",
    "predicted3 = model.predict([[Year3]])\n",
    "print(f\"{data.Area_Name[1]} {Year1} {name} : {predicted1[(0,0)]}\")\n",
    "print(f\"{data.Area_Name[1]} {Year2} {name} : {predicted2[(0,0)]}\")\n",
    "print(f\"{data.Area_Name[1]} {Year3} {name} : {predicted3[(0,0)]}\")\n",
    "InternationalMig_predicted1=predicted1[0]\n",
    "InternationalMig_predicted2=predicted2[0]\n",
    "InternationalMig_predicted3=predicted3[0]\n",
    "State_InternationalMig.append(predicted1[(0,0)])\n",
    "State_InternationalMig.append(predicted2[(0,0)]) \n",
    "State_InternationalMig.append(predicted3[(0,0)]) "
   ]
  },
  {
   "cell_type": "code",
   "execution_count": 9,
   "metadata": {},
   "outputs": [
    {
     "name": "stdout",
     "output_type": "stream",
     "text": [
      "DomesticMig model Score: 0.8891889035850093\n",
      "New York 2019 DomesticMig : -219478.4285714291\n",
      "New York 2020 DomesticMig : -235613.5238095224\n",
      "New York 2021 DomesticMig : -251748.6190476194\n"
     ]
    },
    {
     "data": {
      "image/png": "[encoded data removed]",
      "text/plain": [
       "<Figure size 432x288 with 1 Axes>"
      ]
     },
     "metadata": {
      "needs_background": "light"
     },
     "output_type": "display_data"
    }
   ],
   "source": [
    "# fit the model to the DomesticMig data and predict\n",
    "X=X1\n",
    "y=y5\n",
    "name=\"DomesticMig\"\n",
    "nameYear=name+\" 2010-2018\"\n",
    "model.fit(X, y)\n",
    "print(f\"DomesticMig model Score: {model.score(X, y)}\")\n",
    "y_min = model.predict(x_min)\n",
    "y_max = model.predict(x_max)\n",
    "plt.scatter(X, y, c='blue',label=nameYear)\n",
    "plt.plot([x_min[0], x_max[0]], [y_min[0], y_max[0]], c='red', label=name)\n",
    "plt.legend()\n",
    "plt.title(name)\n",
    "predicted1 = model.predict([[Year1]])\n",
    "predicted2 = model.predict([[Year2]])\n",
    "predicted3 = model.predict([[Year3]])\n",
    "print(f\"{data.Area_Name[1]} {Year1} {name} : {predicted1[(0,0)]}\")\n",
    "print(f\"{data.Area_Name[1]} {Year2} {name} : {predicted2[(0,0)]}\")\n",
    "print(f\"{data.Area_Name[1]} {Year3} {name} : {predicted3[(0,0)]}\")\n",
    "DomesticMig_predicted1=predicted1[0]\n",
    "DomesticMig_predicted2=predicted2[0]\n",
    "DomesticMig_predicted3=predicted3[0]\n",
    "State_DomesticMig.append(predicted1[(0,0)])\n",
    "State_DomesticMig.append(predicted2[(0,0)]) \n",
    "State_DomesticMig.append(predicted3[(0,0)]) "
   ]
  },
  {
   "cell_type": "code",
   "execution_count": 10,
   "metadata": {},
   "outputs": [
    {
     "name": "stdout",
     "output_type": "stream",
     "text": [
      "CivilianLaborForce model Score: 0.006588932464966835\n",
      "New York 2019 CivilianLaborForce : 9564879.892857144\n",
      "New York 2020 CivilianLaborForce : 9563373.785714285\n",
      "New York 2021 CivilianLaborForce : 9561867.67857143\n"
     ]
    },
    {
     "data": {
      "image/png": "[encoded data removed]",
      "text/plain": [
       "<Figure size 432x288 with 1 Axes>"
      ]
     },
     "metadata": {
      "needs_background": "light"
     },
     "output_type": "display_data"
    }
   ],
   "source": [
    "# fit the model to the CivilianLaborForce data and predict\n",
    "X=X1\n",
    "y=y6\n",
    "name=\"CivilianLaborForce\"\n",
    "nameYear=name+\" 2010-2018\"\n",
    "model.fit(X, y)\n",
    "print(f\"CivilianLaborForce model Score: {model.score(X, y)}\")\n",
    "y_min = model.predict(x_min)\n",
    "y_max = model.predict(x_max)\n",
    "plt.scatter(X, y, c='blue',label=nameYear)\n",
    "plt.plot([x_min[0], x_max[0]], [y_min[0], y_max[0]], c='red', label=name)\n",
    "plt.legend()\n",
    "plt.title(name)\n",
    "predicted1 = model.predict([[Year1]])\n",
    "predicted2 = model.predict([[Year2]])\n",
    "predicted3 = model.predict([[Year3]])\n",
    "print(f\"{data.Area_Name[1]} {Year1} {name} : {predicted1[(0,0)]}\")\n",
    "print(f\"{data.Area_Name[1]} {Year2} {name} : {predicted2[(0,0)]}\")\n",
    "print(f\"{data.Area_Name[1]} {Year3} {name} : {predicted3[(0,0)]}\")\n",
    "CivilianLaborForce_predicted1=predicted1[0]\n",
    "CivilianLaborForce_predicted2=predicted2[0]\n",
    "CivilianLaborForce_predicted3=predicted3[0]\n",
    "State_CivilianLaborForce.append(predicted1[(0,0)])\n",
    "State_CivilianLaborForce.append(predicted2[(0,0)]) \n",
    "State_CivilianLaborForce.append(predicted3[(0,0)]) "
   ]
  },
  {
   "cell_type": "code",
   "execution_count": 11,
   "metadata": {},
   "outputs": [
    {
     "name": "stdout",
     "output_type": "stream",
     "text": [
      "UnemploymentRate model Score: 0.9417926772887701\n",
      "New York 2019 UnemploymentRate : 3.1285714285713766\n",
      "New York 2020 UnemploymentRate : 2.440476190476147\n",
      "New York 2021 UnemploymentRate : 1.7523809523809177\n"
     ]
    },
    {
     "data": {
      "image/png": "[encoded data removed]",
      "text/plain": [
       "<Figure size 432x288 with 1 Axes>"
      ]
     },
     "metadata": {
      "needs_background": "light"
     },
     "output_type": "display_data"
    }
   ],
   "source": [
    "# fit the model to the UnemploymentRate data and predict\n",
    "X=X1\n",
    "y=y7\n",
    "name=\"UnemploymentRate\"\n",
    "nameYear=name+\" 2010-2018\"\n",
    "model.fit(X, y)\n",
    "print(f\"UnemploymentRate model Score: {model.score(X, y)}\")\n",
    "y_min = model.predict(x_min)\n",
    "y_max = model.predict(x_max)\n",
    "plt.scatter(X, y, c='blue',label=nameYear)\n",
    "plt.plot([x_min[0], x_max[0]], [y_min[0], y_max[0]], c='red', label=name)\n",
    "plt.legend()\n",
    "plt.title(name)\n",
    "predicted1 = model.predict([[Year1]])\n",
    "predicted2 = model.predict([[Year2]])\n",
    "predicted3 = model.predict([[Year3]])\n",
    "print(f\"{data.Area_Name[1]} {Year1} {name} : {predicted1[(0,0)]}\")\n",
    "print(f\"{data.Area_Name[1]} {Year2} {name} : {predicted2[(0,0)]}\")\n",
    "print(f\"{data.Area_Name[1]} {Year3} {name} : {predicted3[(0,0)]}\")\n",
    "UnemploymentRate_predicted1=predicted1[0]\n",
    "UnemploymentRate_predicted2=predicted2[0]\n",
    "UnemploymentRate_predicted3=predicted3[0]\n",
    "State_UnemploymentRate.append(predicted1[(0,0)])\n",
    "State_UnemploymentRate.append(predicted2[(0,0)]) \n",
    "State_UnemploymentRate.append(predicted3[(0,0)]) "
   ]
  },
  {
   "cell_type": "code",
   "execution_count": 12,
   "metadata": {},
   "outputs": [],
   "source": [
    "# use small predict model results for the final model input\n",
    "X_prediction2019=pd.DataFrame({\"Births\": Births_predicted1,\n",
    "                           \"Deaths\": Deaths_predicted1,\n",
    "                           \"InternationalMig\": InternationalMig_predicted1,\n",
    "                           \"DomesticMig\": DomesticMig_predicted1,\n",
    "                           \"CivilianLaborForce\": CivilianLaborForce_predicted1,\n",
    "                           \"UnemploymentRate\": UnemploymentRate_predicted1})\n",
    "X_prediction2020=pd.DataFrame({\"Births\": Births_predicted2,\n",
    "                           \"Deaths\": Deaths_predicted2,\n",
    "                           \"InternationalMig\": InternationalMig_predicted2,\n",
    "                           \"DomesticMig\": DomesticMig_predicted2,\n",
    "                           \"CivilianLaborForce\": CivilianLaborForce_predicted2,\n",
    "                           \"UnemploymentRate\": UnemploymentRate_predicted2})\n",
    "X_prediction2021=pd.DataFrame({\"Births\": Births_predicted3,\n",
    "                           \"Deaths\": Deaths_predicted3,\n",
    "                           \"InternationalMig\": InternationalMig_predicted3,\n",
    "                           \"DomesticMig\": DomesticMig_predicted3,\n",
    "                           \"CivilianLaborForce\": CivilianLaborForce_predicted3,\n",
    "                           \"UnemploymentRate\": UnemploymentRate_predicted3})\n",
    "# print(X_prediction2019,X_prediction2020,X_prediction2021)"
   ]
  },
  {
   "cell_type": "code",
   "execution_count": 13,
   "metadata": {},
   "outputs": [
    {
     "name": "stdout",
     "output_type": "stream",
     "text": [
      "X y Shape:  (408, 6) (408, 1)\n",
      "population model Score: 0.9993912115700335\n"
     ]
    },
    {
     "data": {
      "image/png": "[encoded data removed]",
      "text/plain": [
       "<Figure size 432x288 with 1 Axes>"
      ]
     },
     "metadata": {
      "needs_background": "light"
     },
     "output_type": "display_data"
    },
    {
     "name": "stdout",
     "output_type": "stream",
     "text": [
      "New York 2019 population : 19485759\n",
      "New York 2020 population : 19461488\n",
      "New York 2021 population : 19437217\n"
     ]
    }
   ],
   "source": [
    "# Assign the data to X and y for the polulation model and fit\n",
    "X = pop[[\"Births\",\"Deaths\",\"InternationalMig\",\"DomesticMig\",\"CivilianLaborForce\",\"UnemploymentRate\"]]\n",
    "y = pop[\"Population\"].values.reshape(-1, 1)\n",
    "print(\"X y Shape: \", X.shape, y.shape)\n",
    "from sklearn.linear_model import LinearRegression\n",
    "model = LinearRegression()\n",
    "model.fit(X, y)\n",
    "print(f\"population model Score: {model.score(X, y)}\")\n",
    "# residual plot \n",
    "predictions = model.predict(X)\n",
    "# Plot Residuals\n",
    "plt.scatter(predictions, (predictions - y)/predictions*100 ,label=\"Residuals Persantage %\")\n",
    "plt.hlines(y=0, xmin=predictions.min(), xmax=predictions.max())\n",
    "plt.legend()\n",
    "plt.title(\"Residuals Persantage\")\n",
    "plt.show()\n",
    "predictions2019 = model.predict(X_prediction2019)\n",
    "predictions2020 = model.predict(X_prediction2020)\n",
    "predictions2021 = model.predict(X_prediction2021)\n",
    "print(f\"{data.Area_Name[1]} {Year1} population : {int(predictions2019[(0,0)])}\")\n",
    "print(f\"{data.Area_Name[1]} {Year2} population : {int(predictions2020[(0,0)])}\")\n",
    "print(f\"{data.Area_Name[1]} {Year3} population : {int(predictions2021[(0,0)])}\")\n",
    "State_populationPrediction.append(predictions2019[(0,0)])\n",
    "State_populationPrediction.append(predictions2020[(0,0)]) \n",
    "State_populationPrediction.append(predictions2021[(0,0)]) "
   ]
  },
  {
   "cell_type": "code",
   "execution_count": 14,
   "metadata": {},
   "outputs": [
    {
     "data": {
      "text/plain": [
       "Text(0.5, 1.0, 'New York')"
      ]
     },
     "execution_count": 14,
     "metadata": {},
     "output_type": "execute_result"
    },
    {
     "data": {
      "image/png": "[encoded data removed]",
      "text/plain": [
       "<Figure size 432x288 with 1 Axes>"
      ]
     },
     "metadata": {
      "needs_background": "light"
     },
     "output_type": "display_data"
    }
   ],
   "source": [
    "df = pd.DataFrame(data.Population.values, index =data.Year.values,columns =['Population']) \n",
    "df1 = pd.DataFrame(State_populationPrediction, index =year_list,columns =['Prediction']) \n",
    "ax = df.reset_index().plot(kind='scatter', x='index', y='Population',\n",
    "                                           color='Blue', label='Population')\n",
    "df1.reset_index().plot(kind='scatter', x='index', y='Prediction',\n",
    "                                          color='Red', label='Prediction', ax=ax)\n",
    "plt.legend()\n",
    "plt.title(data.Area_Name[1])"
   ]
  },
  {
   "cell_type": "code",
   "execution_count": null,
   "metadata": {},
   "outputs": [],
   "source": []
  }
 ],
 "metadata": {
  "kernelspec": {
   "display_name": "Python 3",
   "language": "python",
   "name": "python3"
  },
  "language_info": {
   "codemirror_mode": {
    "name": "ipython",
    "version": 3
   },
   "file_extension": ".py",
   "mimetype": "text/x-python",
   "name": "python",
   "nbconvert_exporter": "python",
   "pygments_lexer": "ipython3",
   "version": "3.7.3"
  }
 },
 "nbformat": 4,
 "nbformat_minor": 2
}
